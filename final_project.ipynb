{
  "cells": [
    {
      "cell_type": "code",
      "execution_count": null,
      "id": "b8eff60b",
      "metadata": {
        "id": "b8eff60b"
      },
      "outputs": [],
      "source": [
        "import numpy as np\n",
        "import pandas as pd\n",
        "import matplotlib.pyplot as plt\n",
        "import seaborn as sns\n",
        "import plotly.express as px\n",
        "from sklearn.preprocessing import StandardScaler\n",
        "from sklearn.linear_model import LinearRegression\n",
        "from sklearn.metrics import mean_squared_error\n",
        "from sklearn.linear_model import LinearRegression\n",
        "from sklearn.linear_model import Ridge\n",
        "from sklearn.linear_model import TweedieRegressor\n",
        "from sklearn.linear_model import Lasso\n",
        "from sklearn.cross_decomposition import PLSRegression\n",
        "from sklearn.neural_network import MLPRegressor\n",
        "from sklearn.linear_model import SGDRegressor\n",
        "from sklearn.tree import DecisionTreeRegressor \n",
        "from sklearn.ensemble import RandomForestRegressor\n",
        "from sklearn.neighbors import KNeighborsRegressor\n",
        "from sklearn.svm import SVR\n",
        "from sklearn.ensemble import AdaBoostRegressor\n",
        "from sklearn.ensemble import GradientBoostingRegressor\n",
        "from xgboost import XGBRegressor\n",
        "from sklearn.linear_model import Ridge\n",
        "from sklearn.model_selection import RandomizedSearchCV\n",
        "from sklearn.linear_model import Lasso\n",
        "from sklearn.linear_model import ElasticNet\n",
        "\n",
        "from sklearn.model_selection import cross_val_score\n",
        "from sklearn.model_selection import GridSearchCV\n",
        "\n",
        "from sklearn.metrics import r2_score\n",
        "from sklearn.model_selection import cross_val_score\n",
        "from sklearn import metrics\n",
        "from sklearn.metrics import mean_absolute_error\n",
        "from sklearn.metrics import accuracy_score, precision_score, recall_score, f1_score\n",
        "%matplotlib inline "
      ]
    },
    {
      "cell_type": "code",
      "source": [
        "from google.colab import drive\n",
        "drive.mount('/content/drive')"
      ],
      "metadata": {
        "colab": {
          "base_uri": "https://localhost:8080/"
        },
        "id": "3RNdTNLrjWQX",
        "outputId": "ac195343-868c-4c23-f4e2-3191667fd6e8"
      },
      "id": "3RNdTNLrjWQX",
      "execution_count": null,
      "outputs": [
        {
          "output_type": "stream",
          "name": "stdout",
          "text": [
            "Mounted at /content/drive\n"
          ]
        }
      ]
    },
    {
      "cell_type": "markdown",
      "id": "d4f0c8d8",
      "metadata": {
        "id": "d4f0c8d8"
      },
      "source": [
        "## Upload dataset"
      ]
    },
    {
      "cell_type": "code",
      "execution_count": null,
      "id": "f014e90d",
      "metadata": {
        "id": "f014e90d"
      },
      "outputs": [],
      "source": [
        "#C:\\\\Users\\\\ASUS\\\\Desktop\\\\shai-ml\\\\\n",
        "train_data = pd.read_csv('/content/drive/MyDrive/shai-ml/train.csv')"
      ]
    },
    {
      "cell_type": "code",
      "execution_count": null,
      "id": "sJvXk2Ou9QQh",
      "metadata": {
        "id": "sJvXk2Ou9QQh"
      },
      "outputs": [],
      "source": [
        "test_data = pd.read_csv('/content/drive/MyDrive/shai-ml/test.csv')"
      ]
    },
    {
      "cell_type": "code",
      "execution_count": null,
      "id": "8oFLOkE9mM9X",
      "metadata": {
        "id": "8oFLOkE9mM9X"
      },
      "outputs": [],
      "source": [
        "#split diamond data into data & labels\n",
        "from sklearn.model_selection import train_test_split\n",
        "train_set ,test_set = train_test_split(train_data,test_size = 0.2,random_state = 42 )"
      ]
    },
    {
      "cell_type": "code",
      "execution_count": null,
      "id": "e49e4953",
      "metadata": {
        "colab": {
          "base_uri": "https://localhost:8080/",
          "height": 206
        },
        "id": "e49e4953",
        "outputId": "2c472659-a19d-4692-c349-473409e66093"
      },
      "outputs": [
        {
          "output_type": "execute_result",
          "data": {
            "text/plain": [
              "       Unnamed: 0  carat        cut color clarity  depth  table  price     x  \\\n",
              "6620         8142   0.90    Premium     H    VVS2   62.0   58.0   4355  6.16   \n",
              "38308       47475   0.52  Very Good     D     VS1   62.6   59.0   1860  5.03   \n",
              "41706       52107   0.47      Ideal     D    VVS1   62.0   54.0   2460  4.99   \n",
              "22543       28015   0.30      Ideal     E     VS2   62.6   54.0    658  4.29   \n",
              "28532       35361   0.38    Premium     I     VS1   61.3   60.0    898  4.65   \n",
              "\n",
              "          y     z  \n",
              "6620   6.13  3.81  \n",
              "38308  5.13  3.18  \n",
              "41706  5.01  3.10  \n",
              "22543  4.33  2.70  \n",
              "28532  4.62  2.84  "
            ],
            "text/html": [
              "\n",
              "  <div id=\"df-c7aa993c-67d4-4dd7-8590-06351a2b8119\">\n",
              "    <div class=\"colab-df-container\">\n",
              "      <div>\n",
              "<style scoped>\n",
              "    .dataframe tbody tr th:only-of-type {\n",
              "        vertical-align: middle;\n",
              "    }\n",
              "\n",
              "    .dataframe tbody tr th {\n",
              "        vertical-align: top;\n",
              "    }\n",
              "\n",
              "    .dataframe thead th {\n",
              "        text-align: right;\n",
              "    }\n",
              "</style>\n",
              "<table border=\"1\" class=\"dataframe\">\n",
              "  <thead>\n",
              "    <tr style=\"text-align: right;\">\n",
              "      <th></th>\n",
              "      <th>Unnamed: 0</th>\n",
              "      <th>carat</th>\n",
              "      <th>cut</th>\n",
              "      <th>color</th>\n",
              "      <th>clarity</th>\n",
              "      <th>depth</th>\n",
              "      <th>table</th>\n",
              "      <th>price</th>\n",
              "      <th>x</th>\n",
              "      <th>y</th>\n",
              "      <th>z</th>\n",
              "    </tr>\n",
              "  </thead>\n",
              "  <tbody>\n",
              "    <tr>\n",
              "      <th>6620</th>\n",
              "      <td>8142</td>\n",
              "      <td>0.90</td>\n",
              "      <td>Premium</td>\n",
              "      <td>H</td>\n",
              "      <td>VVS2</td>\n",
              "      <td>62.0</td>\n",
              "      <td>58.0</td>\n",
              "      <td>4355</td>\n",
              "      <td>6.16</td>\n",
              "      <td>6.13</td>\n",
              "      <td>3.81</td>\n",
              "    </tr>\n",
              "    <tr>\n",
              "      <th>38308</th>\n",
              "      <td>47475</td>\n",
              "      <td>0.52</td>\n",
              "      <td>Very Good</td>\n",
              "      <td>D</td>\n",
              "      <td>VS1</td>\n",
              "      <td>62.6</td>\n",
              "      <td>59.0</td>\n",
              "      <td>1860</td>\n",
              "      <td>5.03</td>\n",
              "      <td>5.13</td>\n",
              "      <td>3.18</td>\n",
              "    </tr>\n",
              "    <tr>\n",
              "      <th>41706</th>\n",
              "      <td>52107</td>\n",
              "      <td>0.47</td>\n",
              "      <td>Ideal</td>\n",
              "      <td>D</td>\n",
              "      <td>VVS1</td>\n",
              "      <td>62.0</td>\n",
              "      <td>54.0</td>\n",
              "      <td>2460</td>\n",
              "      <td>4.99</td>\n",
              "      <td>5.01</td>\n",
              "      <td>3.10</td>\n",
              "    </tr>\n",
              "    <tr>\n",
              "      <th>22543</th>\n",
              "      <td>28015</td>\n",
              "      <td>0.30</td>\n",
              "      <td>Ideal</td>\n",
              "      <td>E</td>\n",
              "      <td>VS2</td>\n",
              "      <td>62.6</td>\n",
              "      <td>54.0</td>\n",
              "      <td>658</td>\n",
              "      <td>4.29</td>\n",
              "      <td>4.33</td>\n",
              "      <td>2.70</td>\n",
              "    </tr>\n",
              "    <tr>\n",
              "      <th>28532</th>\n",
              "      <td>35361</td>\n",
              "      <td>0.38</td>\n",
              "      <td>Premium</td>\n",
              "      <td>I</td>\n",
              "      <td>VS1</td>\n",
              "      <td>61.3</td>\n",
              "      <td>60.0</td>\n",
              "      <td>898</td>\n",
              "      <td>4.65</td>\n",
              "      <td>4.62</td>\n",
              "      <td>2.84</td>\n",
              "    </tr>\n",
              "  </tbody>\n",
              "</table>\n",
              "</div>\n",
              "      <button class=\"colab-df-convert\" onclick=\"convertToInteractive('df-c7aa993c-67d4-4dd7-8590-06351a2b8119')\"\n",
              "              title=\"Convert this dataframe to an interactive table.\"\n",
              "              style=\"display:none;\">\n",
              "        \n",
              "  <svg xmlns=\"http://www.w3.org/2000/svg\" height=\"24px\"viewBox=\"0 0 24 24\"\n",
              "       width=\"24px\">\n",
              "    <path d=\"M0 0h24v24H0V0z\" fill=\"none\"/>\n",
              "    <path d=\"M18.56 5.44l.94 2.06.94-2.06 2.06-.94-2.06-.94-.94-2.06-.94 2.06-2.06.94zm-11 1L8.5 8.5l.94-2.06 2.06-.94-2.06-.94L8.5 2.5l-.94 2.06-2.06.94zm10 10l.94 2.06.94-2.06 2.06-.94-2.06-.94-.94-2.06-.94 2.06-2.06.94z\"/><path d=\"M17.41 7.96l-1.37-1.37c-.4-.4-.92-.59-1.43-.59-.52 0-1.04.2-1.43.59L10.3 9.45l-7.72 7.72c-.78.78-.78 2.05 0 2.83L4 21.41c.39.39.9.59 1.41.59.51 0 1.02-.2 1.41-.59l7.78-7.78 2.81-2.81c.8-.78.8-2.07 0-2.86zM5.41 20L4 18.59l7.72-7.72 1.47 1.35L5.41 20z\"/>\n",
              "  </svg>\n",
              "      </button>\n",
              "      \n",
              "  <style>\n",
              "    .colab-df-container {\n",
              "      display:flex;\n",
              "      flex-wrap:wrap;\n",
              "      gap: 12px;\n",
              "    }\n",
              "\n",
              "    .colab-df-convert {\n",
              "      background-color: #E8F0FE;\n",
              "      border: none;\n",
              "      border-radius: 50%;\n",
              "      cursor: pointer;\n",
              "      display: none;\n",
              "      fill: #1967D2;\n",
              "      height: 32px;\n",
              "      padding: 0 0 0 0;\n",
              "      width: 32px;\n",
              "    }\n",
              "\n",
              "    .colab-df-convert:hover {\n",
              "      background-color: #E2EBFA;\n",
              "      box-shadow: 0px 1px 2px rgba(60, 64, 67, 0.3), 0px 1px 3px 1px rgba(60, 64, 67, 0.15);\n",
              "      fill: #174EA6;\n",
              "    }\n",
              "\n",
              "    [theme=dark] .colab-df-convert {\n",
              "      background-color: #3B4455;\n",
              "      fill: #D2E3FC;\n",
              "    }\n",
              "\n",
              "    [theme=dark] .colab-df-convert:hover {\n",
              "      background-color: #434B5C;\n",
              "      box-shadow: 0px 1px 3px 1px rgba(0, 0, 0, 0.15);\n",
              "      filter: drop-shadow(0px 1px 2px rgba(0, 0, 0, 0.3));\n",
              "      fill: #FFFFFF;\n",
              "    }\n",
              "  </style>\n",
              "\n",
              "      <script>\n",
              "        const buttonEl =\n",
              "          document.querySelector('#df-c7aa993c-67d4-4dd7-8590-06351a2b8119 button.colab-df-convert');\n",
              "        buttonEl.style.display =\n",
              "          google.colab.kernel.accessAllowed ? 'block' : 'none';\n",
              "\n",
              "        async function convertToInteractive(key) {\n",
              "          const element = document.querySelector('#df-c7aa993c-67d4-4dd7-8590-06351a2b8119');\n",
              "          const dataTable =\n",
              "            await google.colab.kernel.invokeFunction('convertToInteractive',\n",
              "                                                     [key], {});\n",
              "          if (!dataTable) return;\n",
              "\n",
              "          const docLinkHtml = 'Like what you see? Visit the ' +\n",
              "            '<a target=\"_blank\" href=https://colab.research.google.com/notebooks/data_table.ipynb>data table notebook</a>'\n",
              "            + ' to learn more about interactive tables.';\n",
              "          element.innerHTML = '';\n",
              "          dataTable['output_type'] = 'display_data';\n",
              "          await google.colab.output.renderOutput(dataTable, element);\n",
              "          const docLink = document.createElement('div');\n",
              "          docLink.innerHTML = docLinkHtml;\n",
              "          element.appendChild(docLink);\n",
              "        }\n",
              "      </script>\n",
              "    </div>\n",
              "  </div>\n",
              "  "
            ]
          },
          "metadata": {},
          "execution_count": 7
        }
      ],
      "source": [
        "train_set.head()"
      ]
    },
    {
      "cell_type": "code",
      "execution_count": null,
      "id": "NR_dfFp1qWnx",
      "metadata": {
        "colab": {
          "base_uri": "https://localhost:8080/",
          "height": 206
        },
        "id": "NR_dfFp1qWnx",
        "outputId": "672fd0b8-d7d8-46dd-e499-5f9a4c6629d6"
      },
      "outputs": [
        {
          "output_type": "execute_result",
          "data": {
            "text/plain": [
              "       Unnamed: 0  carat        cut color clarity  depth  table  price     x  \\\n",
              "39754       49326   0.75  Very Good     H     SI2   62.2   58.0   2093  5.77   \n",
              "2705         3471   0.71       Good     F      IF   62.1   62.0   3393  5.68   \n",
              "14948       18479   1.25  Very Good     H     VS2   63.3   57.0   7525  6.87   \n",
              "18874       23543   2.01       Good     J     SI2   63.4   59.0  11554  7.95   \n",
              "17647       22012   1.52       Good     H     SI1   63.8   60.0  10078  7.30   \n",
              "\n",
              "          y     z  \n",
              "39754  5.83  3.61  \n",
              "2705   5.79  3.56  \n",
              "14948  6.82  4.33  \n",
              "18874  7.99  5.05  \n",
              "17647  7.24  4.64  "
            ],
            "text/html": [
              "\n",
              "  <div id=\"df-4d07b132-f64a-4235-973f-f3facf371943\">\n",
              "    <div class=\"colab-df-container\">\n",
              "      <div>\n",
              "<style scoped>\n",
              "    .dataframe tbody tr th:only-of-type {\n",
              "        vertical-align: middle;\n",
              "    }\n",
              "\n",
              "    .dataframe tbody tr th {\n",
              "        vertical-align: top;\n",
              "    }\n",
              "\n",
              "    .dataframe thead th {\n",
              "        text-align: right;\n",
              "    }\n",
              "</style>\n",
              "<table border=\"1\" class=\"dataframe\">\n",
              "  <thead>\n",
              "    <tr style=\"text-align: right;\">\n",
              "      <th></th>\n",
              "      <th>Unnamed: 0</th>\n",
              "      <th>carat</th>\n",
              "      <th>cut</th>\n",
              "      <th>color</th>\n",
              "      <th>clarity</th>\n",
              "      <th>depth</th>\n",
              "      <th>table</th>\n",
              "      <th>price</th>\n",
              "      <th>x</th>\n",
              "      <th>y</th>\n",
              "      <th>z</th>\n",
              "    </tr>\n",
              "  </thead>\n",
              "  <tbody>\n",
              "    <tr>\n",
              "      <th>39754</th>\n",
              "      <td>49326</td>\n",
              "      <td>0.75</td>\n",
              "      <td>Very Good</td>\n",
              "      <td>H</td>\n",
              "      <td>SI2</td>\n",
              "      <td>62.2</td>\n",
              "      <td>58.0</td>\n",
              "      <td>2093</td>\n",
              "      <td>5.77</td>\n",
              "      <td>5.83</td>\n",
              "      <td>3.61</td>\n",
              "    </tr>\n",
              "    <tr>\n",
              "      <th>2705</th>\n",
              "      <td>3471</td>\n",
              "      <td>0.71</td>\n",
              "      <td>Good</td>\n",
              "      <td>F</td>\n",
              "      <td>IF</td>\n",
              "      <td>62.1</td>\n",
              "      <td>62.0</td>\n",
              "      <td>3393</td>\n",
              "      <td>5.68</td>\n",
              "      <td>5.79</td>\n",
              "      <td>3.56</td>\n",
              "    </tr>\n",
              "    <tr>\n",
              "      <th>14948</th>\n",
              "      <td>18479</td>\n",
              "      <td>1.25</td>\n",
              "      <td>Very Good</td>\n",
              "      <td>H</td>\n",
              "      <td>VS2</td>\n",
              "      <td>63.3</td>\n",
              "      <td>57.0</td>\n",
              "      <td>7525</td>\n",
              "      <td>6.87</td>\n",
              "      <td>6.82</td>\n",
              "      <td>4.33</td>\n",
              "    </tr>\n",
              "    <tr>\n",
              "      <th>18874</th>\n",
              "      <td>23543</td>\n",
              "      <td>2.01</td>\n",
              "      <td>Good</td>\n",
              "      <td>J</td>\n",
              "      <td>SI2</td>\n",
              "      <td>63.4</td>\n",
              "      <td>59.0</td>\n",
              "      <td>11554</td>\n",
              "      <td>7.95</td>\n",
              "      <td>7.99</td>\n",
              "      <td>5.05</td>\n",
              "    </tr>\n",
              "    <tr>\n",
              "      <th>17647</th>\n",
              "      <td>22012</td>\n",
              "      <td>1.52</td>\n",
              "      <td>Good</td>\n",
              "      <td>H</td>\n",
              "      <td>SI1</td>\n",
              "      <td>63.8</td>\n",
              "      <td>60.0</td>\n",
              "      <td>10078</td>\n",
              "      <td>7.30</td>\n",
              "      <td>7.24</td>\n",
              "      <td>4.64</td>\n",
              "    </tr>\n",
              "  </tbody>\n",
              "</table>\n",
              "</div>\n",
              "      <button class=\"colab-df-convert\" onclick=\"convertToInteractive('df-4d07b132-f64a-4235-973f-f3facf371943')\"\n",
              "              title=\"Convert this dataframe to an interactive table.\"\n",
              "              style=\"display:none;\">\n",
              "        \n",
              "  <svg xmlns=\"http://www.w3.org/2000/svg\" height=\"24px\"viewBox=\"0 0 24 24\"\n",
              "       width=\"24px\">\n",
              "    <path d=\"M0 0h24v24H0V0z\" fill=\"none\"/>\n",
              "    <path d=\"M18.56 5.44l.94 2.06.94-2.06 2.06-.94-2.06-.94-.94-2.06-.94 2.06-2.06.94zm-11 1L8.5 8.5l.94-2.06 2.06-.94-2.06-.94L8.5 2.5l-.94 2.06-2.06.94zm10 10l.94 2.06.94-2.06 2.06-.94-2.06-.94-.94-2.06-.94 2.06-2.06.94z\"/><path d=\"M17.41 7.96l-1.37-1.37c-.4-.4-.92-.59-1.43-.59-.52 0-1.04.2-1.43.59L10.3 9.45l-7.72 7.72c-.78.78-.78 2.05 0 2.83L4 21.41c.39.39.9.59 1.41.59.51 0 1.02-.2 1.41-.59l7.78-7.78 2.81-2.81c.8-.78.8-2.07 0-2.86zM5.41 20L4 18.59l7.72-7.72 1.47 1.35L5.41 20z\"/>\n",
              "  </svg>\n",
              "      </button>\n",
              "      \n",
              "  <style>\n",
              "    .colab-df-container {\n",
              "      display:flex;\n",
              "      flex-wrap:wrap;\n",
              "      gap: 12px;\n",
              "    }\n",
              "\n",
              "    .colab-df-convert {\n",
              "      background-color: #E8F0FE;\n",
              "      border: none;\n",
              "      border-radius: 50%;\n",
              "      cursor: pointer;\n",
              "      display: none;\n",
              "      fill: #1967D2;\n",
              "      height: 32px;\n",
              "      padding: 0 0 0 0;\n",
              "      width: 32px;\n",
              "    }\n",
              "\n",
              "    .colab-df-convert:hover {\n",
              "      background-color: #E2EBFA;\n",
              "      box-shadow: 0px 1px 2px rgba(60, 64, 67, 0.3), 0px 1px 3px 1px rgba(60, 64, 67, 0.15);\n",
              "      fill: #174EA6;\n",
              "    }\n",
              "\n",
              "    [theme=dark] .colab-df-convert {\n",
              "      background-color: #3B4455;\n",
              "      fill: #D2E3FC;\n",
              "    }\n",
              "\n",
              "    [theme=dark] .colab-df-convert:hover {\n",
              "      background-color: #434B5C;\n",
              "      box-shadow: 0px 1px 3px 1px rgba(0, 0, 0, 0.15);\n",
              "      filter: drop-shadow(0px 1px 2px rgba(0, 0, 0, 0.3));\n",
              "      fill: #FFFFFF;\n",
              "    }\n",
              "  </style>\n",
              "\n",
              "      <script>\n",
              "        const buttonEl =\n",
              "          document.querySelector('#df-4d07b132-f64a-4235-973f-f3facf371943 button.colab-df-convert');\n",
              "        buttonEl.style.display =\n",
              "          google.colab.kernel.accessAllowed ? 'block' : 'none';\n",
              "\n",
              "        async function convertToInteractive(key) {\n",
              "          const element = document.querySelector('#df-4d07b132-f64a-4235-973f-f3facf371943');\n",
              "          const dataTable =\n",
              "            await google.colab.kernel.invokeFunction('convertToInteractive',\n",
              "                                                     [key], {});\n",
              "          if (!dataTable) return;\n",
              "\n",
              "          const docLinkHtml = 'Like what you see? Visit the ' +\n",
              "            '<a target=\"_blank\" href=https://colab.research.google.com/notebooks/data_table.ipynb>data table notebook</a>'\n",
              "            + ' to learn more about interactive tables.';\n",
              "          element.innerHTML = '';\n",
              "          dataTable['output_type'] = 'display_data';\n",
              "          await google.colab.output.renderOutput(dataTable, element);\n",
              "          const docLink = document.createElement('div');\n",
              "          docLink.innerHTML = docLinkHtml;\n",
              "          element.appendChild(docLink);\n",
              "        }\n",
              "      </script>\n",
              "    </div>\n",
              "  </div>\n",
              "  "
            ]
          },
          "metadata": {},
          "execution_count": 8
        }
      ],
      "source": [
        "test_set.head()"
      ]
    },
    {
      "cell_type": "code",
      "execution_count": null,
      "id": "0dedfe98",
      "metadata": {
        "colab": {
          "base_uri": "https://localhost:8080/"
        },
        "id": "0dedfe98",
        "outputId": "3db01aaa-aa72-4667-ae79-ab3b4288184a"
      },
      "outputs": [
        {
          "output_type": "stream",
          "name": "stdout",
          "text": [
            "<class 'pandas.core.frame.DataFrame'>\n",
            "Int64Index: 34432 entries, 6620 to 15795\n",
            "Data columns (total 11 columns):\n",
            " #   Column      Non-Null Count  Dtype  \n",
            "---  ------      --------------  -----  \n",
            " 0   Unnamed: 0  34432 non-null  int64  \n",
            " 1   carat       34432 non-null  float64\n",
            " 2   cut         34432 non-null  object \n",
            " 3   color       34432 non-null  object \n",
            " 4   clarity     34432 non-null  object \n",
            " 5   depth       34432 non-null  float64\n",
            " 6   table       34432 non-null  float64\n",
            " 7   price       34432 non-null  int64  \n",
            " 8   x           34432 non-null  float64\n",
            " 9   y           34432 non-null  float64\n",
            " 10  z           34432 non-null  float64\n",
            "dtypes: float64(6), int64(2), object(3)\n",
            "memory usage: 3.2+ MB\n"
          ]
        }
      ],
      "source": [
        "train_set.info()"
      ]
    },
    {
      "cell_type": "code",
      "execution_count": null,
      "id": "721b8cd6",
      "metadata": {
        "colab": {
          "base_uri": "https://localhost:8080/",
          "height": 206
        },
        "id": "721b8cd6",
        "outputId": "306a8522-1e7d-4752-85f2-710edf3169bd"
      },
      "outputs": [
        {
          "output_type": "execute_result",
          "data": {
            "text/plain": [
              "       carat        cut color clarity  depth  table   price     x     y     z\n",
              "6620    0.90    Premium     H    VVS2   62.0   58.0  4355.0  6.16  6.13  3.81\n",
              "38308   0.52  Very Good     D     VS1   62.6   59.0  1860.0  5.03  5.13  3.18\n",
              "41706   0.47      Ideal     D    VVS1   62.0   54.0  2460.0  4.99  5.01  3.10\n",
              "22543   0.30      Ideal     E     VS2   62.6   54.0   658.0  4.29  4.33  2.70\n",
              "28532   0.38    Premium     I     VS1   61.3   60.0   898.0  4.65  4.62  2.84"
            ],
            "text/html": [
              "\n",
              "  <div id=\"df-29ecf161-e5f4-424b-a97b-2accfb6841f1\">\n",
              "    <div class=\"colab-df-container\">\n",
              "      <div>\n",
              "<style scoped>\n",
              "    .dataframe tbody tr th:only-of-type {\n",
              "        vertical-align: middle;\n",
              "    }\n",
              "\n",
              "    .dataframe tbody tr th {\n",
              "        vertical-align: top;\n",
              "    }\n",
              "\n",
              "    .dataframe thead th {\n",
              "        text-align: right;\n",
              "    }\n",
              "</style>\n",
              "<table border=\"1\" class=\"dataframe\">\n",
              "  <thead>\n",
              "    <tr style=\"text-align: right;\">\n",
              "      <th></th>\n",
              "      <th>carat</th>\n",
              "      <th>cut</th>\n",
              "      <th>color</th>\n",
              "      <th>clarity</th>\n",
              "      <th>depth</th>\n",
              "      <th>table</th>\n",
              "      <th>price</th>\n",
              "      <th>x</th>\n",
              "      <th>y</th>\n",
              "      <th>z</th>\n",
              "    </tr>\n",
              "  </thead>\n",
              "  <tbody>\n",
              "    <tr>\n",
              "      <th>6620</th>\n",
              "      <td>0.90</td>\n",
              "      <td>Premium</td>\n",
              "      <td>H</td>\n",
              "      <td>VVS2</td>\n",
              "      <td>62.0</td>\n",
              "      <td>58.0</td>\n",
              "      <td>4355.0</td>\n",
              "      <td>6.16</td>\n",
              "      <td>6.13</td>\n",
              "      <td>3.81</td>\n",
              "    </tr>\n",
              "    <tr>\n",
              "      <th>38308</th>\n",
              "      <td>0.52</td>\n",
              "      <td>Very Good</td>\n",
              "      <td>D</td>\n",
              "      <td>VS1</td>\n",
              "      <td>62.6</td>\n",
              "      <td>59.0</td>\n",
              "      <td>1860.0</td>\n",
              "      <td>5.03</td>\n",
              "      <td>5.13</td>\n",
              "      <td>3.18</td>\n",
              "    </tr>\n",
              "    <tr>\n",
              "      <th>41706</th>\n",
              "      <td>0.47</td>\n",
              "      <td>Ideal</td>\n",
              "      <td>D</td>\n",
              "      <td>VVS1</td>\n",
              "      <td>62.0</td>\n",
              "      <td>54.0</td>\n",
              "      <td>2460.0</td>\n",
              "      <td>4.99</td>\n",
              "      <td>5.01</td>\n",
              "      <td>3.10</td>\n",
              "    </tr>\n",
              "    <tr>\n",
              "      <th>22543</th>\n",
              "      <td>0.30</td>\n",
              "      <td>Ideal</td>\n",
              "      <td>E</td>\n",
              "      <td>VS2</td>\n",
              "      <td>62.6</td>\n",
              "      <td>54.0</td>\n",
              "      <td>658.0</td>\n",
              "      <td>4.29</td>\n",
              "      <td>4.33</td>\n",
              "      <td>2.70</td>\n",
              "    </tr>\n",
              "    <tr>\n",
              "      <th>28532</th>\n",
              "      <td>0.38</td>\n",
              "      <td>Premium</td>\n",
              "      <td>I</td>\n",
              "      <td>VS1</td>\n",
              "      <td>61.3</td>\n",
              "      <td>60.0</td>\n",
              "      <td>898.0</td>\n",
              "      <td>4.65</td>\n",
              "      <td>4.62</td>\n",
              "      <td>2.84</td>\n",
              "    </tr>\n",
              "  </tbody>\n",
              "</table>\n",
              "</div>\n",
              "      <button class=\"colab-df-convert\" onclick=\"convertToInteractive('df-29ecf161-e5f4-424b-a97b-2accfb6841f1')\"\n",
              "              title=\"Convert this dataframe to an interactive table.\"\n",
              "              style=\"display:none;\">\n",
              "        \n",
              "  <svg xmlns=\"http://www.w3.org/2000/svg\" height=\"24px\"viewBox=\"0 0 24 24\"\n",
              "       width=\"24px\">\n",
              "    <path d=\"M0 0h24v24H0V0z\" fill=\"none\"/>\n",
              "    <path d=\"M18.56 5.44l.94 2.06.94-2.06 2.06-.94-2.06-.94-.94-2.06-.94 2.06-2.06.94zm-11 1L8.5 8.5l.94-2.06 2.06-.94-2.06-.94L8.5 2.5l-.94 2.06-2.06.94zm10 10l.94 2.06.94-2.06 2.06-.94-2.06-.94-.94-2.06-.94 2.06-2.06.94z\"/><path d=\"M17.41 7.96l-1.37-1.37c-.4-.4-.92-.59-1.43-.59-.52 0-1.04.2-1.43.59L10.3 9.45l-7.72 7.72c-.78.78-.78 2.05 0 2.83L4 21.41c.39.39.9.59 1.41.59.51 0 1.02-.2 1.41-.59l7.78-7.78 2.81-2.81c.8-.78.8-2.07 0-2.86zM5.41 20L4 18.59l7.72-7.72 1.47 1.35L5.41 20z\"/>\n",
              "  </svg>\n",
              "      </button>\n",
              "      \n",
              "  <style>\n",
              "    .colab-df-container {\n",
              "      display:flex;\n",
              "      flex-wrap:wrap;\n",
              "      gap: 12px;\n",
              "    }\n",
              "\n",
              "    .colab-df-convert {\n",
              "      background-color: #E8F0FE;\n",
              "      border: none;\n",
              "      border-radius: 50%;\n",
              "      cursor: pointer;\n",
              "      display: none;\n",
              "      fill: #1967D2;\n",
              "      height: 32px;\n",
              "      padding: 0 0 0 0;\n",
              "      width: 32px;\n",
              "    }\n",
              "\n",
              "    .colab-df-convert:hover {\n",
              "      background-color: #E2EBFA;\n",
              "      box-shadow: 0px 1px 2px rgba(60, 64, 67, 0.3), 0px 1px 3px 1px rgba(60, 64, 67, 0.15);\n",
              "      fill: #174EA6;\n",
              "    }\n",
              "\n",
              "    [theme=dark] .colab-df-convert {\n",
              "      background-color: #3B4455;\n",
              "      fill: #D2E3FC;\n",
              "    }\n",
              "\n",
              "    [theme=dark] .colab-df-convert:hover {\n",
              "      background-color: #434B5C;\n",
              "      box-shadow: 0px 1px 3px 1px rgba(0, 0, 0, 0.15);\n",
              "      filter: drop-shadow(0px 1px 2px rgba(0, 0, 0, 0.3));\n",
              "      fill: #FFFFFF;\n",
              "    }\n",
              "  </style>\n",
              "\n",
              "      <script>\n",
              "        const buttonEl =\n",
              "          document.querySelector('#df-29ecf161-e5f4-424b-a97b-2accfb6841f1 button.colab-df-convert');\n",
              "        buttonEl.style.display =\n",
              "          google.colab.kernel.accessAllowed ? 'block' : 'none';\n",
              "\n",
              "        async function convertToInteractive(key) {\n",
              "          const element = document.querySelector('#df-29ecf161-e5f4-424b-a97b-2accfb6841f1');\n",
              "          const dataTable =\n",
              "            await google.colab.kernel.invokeFunction('convertToInteractive',\n",
              "                                                     [key], {});\n",
              "          if (!dataTable) return;\n",
              "\n",
              "          const docLinkHtml = 'Like what you see? Visit the ' +\n",
              "            '<a target=\"_blank\" href=https://colab.research.google.com/notebooks/data_table.ipynb>data table notebook</a>'\n",
              "            + ' to learn more about interactive tables.';\n",
              "          element.innerHTML = '';\n",
              "          dataTable['output_type'] = 'display_data';\n",
              "          await google.colab.output.renderOutput(dataTable, element);\n",
              "          const docLink = document.createElement('div');\n",
              "          docLink.innerHTML = docLinkHtml;\n",
              "          element.appendChild(docLink);\n",
              "        }\n",
              "      </script>\n",
              "    </div>\n",
              "  </div>\n",
              "  "
            ]
          },
          "metadata": {},
          "execution_count": 10
        }
      ],
      "source": [
        "# Drop the \"Unnamed: 0\" column\n",
        "train_set = train_set.drop(\"Unnamed: 0\", axis = 1)\n",
        "\n",
        "# Price is int64, best if all numeric attributes have the same datatype, especially as float64\n",
        "train_set[\"price\"] = train_set[\"price\"].astype(float)\n",
        "\n",
        "# Preview dataset again\n",
        "train_set.head()"
      ]
    },
    {
      "cell_type": "code",
      "execution_count": null,
      "id": "L2A_ESPRxduw",
      "metadata": {
        "colab": {
          "base_uri": "https://localhost:8080/"
        },
        "id": "L2A_ESPRxduw",
        "outputId": "593b16a7-1d8b-4d30-fe8c-9e015b1e2d58"
      },
      "outputs": [
        {
          "output_type": "stream",
          "name": "stdout",
          "text": [
            "Number of duplicate rows = 80\n",
            "(34432, 10)\n"
          ]
        }
      ],
      "source": [
        "#Checking for duplicate records in the data\n",
        "dups = train_set .duplicated()\n",
        "print('Number of duplicate rows = %d' % (dups.sum()))\n",
        "print(train_set .shape)"
      ]
    },
    {
      "cell_type": "code",
      "execution_count": null,
      "id": "y5gpvUcoxlUb",
      "metadata": {
        "colab": {
          "base_uri": "https://localhost:8080/"
        },
        "id": "y5gpvUcoxlUb",
        "outputId": "74a221a4-dd15-4c8e-c59b-e870f45b864f"
      },
      "outputs": [
        {
          "output_type": "stream",
          "name": "stdout",
          "text": [
            "Before (34432, 10)\n",
            "After (34352, 10)\n"
          ]
        }
      ],
      "source": [
        "print('Before',train_set.shape)\n",
        "train_set.drop_duplicates(inplace=True) \n",
        "print('After',train_set.shape)"
      ]
    },
    {
      "cell_type": "code",
      "execution_count": null,
      "id": "0daf9ce9",
      "metadata": {
        "colab": {
          "base_uri": "https://localhost:8080/"
        },
        "id": "0daf9ce9",
        "outputId": "2d07db6b-6717-4ce1-83fb-08866b6ad621"
      },
      "outputs": [
        {
          "output_type": "execute_result",
          "data": {
            "text/plain": [
              "Ideal        13924\n",
              "Premium       8804\n",
              "Very Good     7551\n",
              "Good          3114\n",
              "Fair           959\n",
              "Name: cut, dtype: int64"
            ]
          },
          "metadata": {},
          "execution_count": 13
        }
      ],
      "source": [
        "train_set[\"cut\"].value_counts()"
      ]
    },
    {
      "cell_type": "code",
      "execution_count": null,
      "id": "a2f4e542",
      "metadata": {
        "colab": {
          "base_uri": "https://localhost:8080/"
        },
        "id": "a2f4e542",
        "outputId": "89e86da0-f159-4512-8c16-7bd54cc6339e"
      },
      "outputs": [
        {
          "output_type": "execute_result",
          "data": {
            "text/plain": [
              "G    7272\n",
              "E    6099\n",
              "F    6073\n",
              "H    5293\n",
              "D    4452\n",
              "I    3414\n",
              "J    1749\n",
              "Name: color, dtype: int64"
            ]
          },
          "metadata": {},
          "execution_count": 14
        }
      ],
      "source": [
        "train_set[\"color\"].value_counts()"
      ]
    },
    {
      "cell_type": "code",
      "execution_count": null,
      "id": "4871847c",
      "metadata": {
        "colab": {
          "base_uri": "https://localhost:8080/"
        },
        "id": "4871847c",
        "outputId": "8d3bf151-1317-443a-e863-2c9077c89c2d"
      },
      "outputs": [
        {
          "output_type": "execute_result",
          "data": {
            "text/plain": [
              "SI1     8273\n",
              "VS2     7973\n",
              "SI2     5851\n",
              "VS1     5175\n",
              "VVS2    3196\n",
              "VVS1    2258\n",
              "IF      1192\n",
              "I1       434\n",
              "Name: clarity, dtype: int64"
            ]
          },
          "metadata": {},
          "execution_count": 15
        }
      ],
      "source": [
        "train_set[\"clarity\"].value_counts()"
      ]
    },
    {
      "cell_type": "code",
      "execution_count": null,
      "id": "fb68455c",
      "metadata": {
        "colab": {
          "base_uri": "https://localhost:8080/",
          "height": 300
        },
        "id": "fb68455c",
        "outputId": "c167eb8e-7ee2-4c4a-ac5d-a5edb183e9ed"
      },
      "outputs": [
        {
          "output_type": "execute_result",
          "data": {
            "text/plain": [
              "              carat         depth         table         price             x  \\\n",
              "count  34352.000000  34352.000000  34352.000000  34352.000000  34352.000000   \n",
              "mean       0.798002     61.741849     57.436941   3958.504658      5.727570   \n",
              "std        0.482149      1.423439      2.241567   4033.920500      1.132485   \n",
              "min        0.200000     43.000000     44.000000    335.000000      0.000000   \n",
              "25%        0.380000     61.000000     56.000000    942.000000      4.660000   \n",
              "50%        0.710000     61.800000     57.000000   2391.000000      5.710000   \n",
              "75%        1.030000     62.500000     59.000000   5347.000000      6.510000   \n",
              "max        5.010000     79.000000     95.000000  18823.000000     10.740000   \n",
              "\n",
              "                  y             z  \n",
              "count  34352.000000  34352.000000  \n",
              "mean       5.731838      3.535902  \n",
              "std        1.168377      0.717971  \n",
              "min        0.000000      0.000000  \n",
              "25%        4.670000      2.870000  \n",
              "50%        5.720000      3.530000  \n",
              "75%        6.500000      4.020000  \n",
              "max       58.900000     31.800000  "
            ],
            "text/html": [
              "\n",
              "  <div id=\"df-a7f60345-e233-4a00-ad9f-2d6b2e67cfba\">\n",
              "    <div class=\"colab-df-container\">\n",
              "      <div>\n",
              "<style scoped>\n",
              "    .dataframe tbody tr th:only-of-type {\n",
              "        vertical-align: middle;\n",
              "    }\n",
              "\n",
              "    .dataframe tbody tr th {\n",
              "        vertical-align: top;\n",
              "    }\n",
              "\n",
              "    .dataframe thead th {\n",
              "        text-align: right;\n",
              "    }\n",
              "</style>\n",
              "<table border=\"1\" class=\"dataframe\">\n",
              "  <thead>\n",
              "    <tr style=\"text-align: right;\">\n",
              "      <th></th>\n",
              "      <th>carat</th>\n",
              "      <th>depth</th>\n",
              "      <th>table</th>\n",
              "      <th>price</th>\n",
              "      <th>x</th>\n",
              "      <th>y</th>\n",
              "      <th>z</th>\n",
              "    </tr>\n",
              "  </thead>\n",
              "  <tbody>\n",
              "    <tr>\n",
              "      <th>count</th>\n",
              "      <td>34352.000000</td>\n",
              "      <td>34352.000000</td>\n",
              "      <td>34352.000000</td>\n",
              "      <td>34352.000000</td>\n",
              "      <td>34352.000000</td>\n",
              "      <td>34352.000000</td>\n",
              "      <td>34352.000000</td>\n",
              "    </tr>\n",
              "    <tr>\n",
              "      <th>mean</th>\n",
              "      <td>0.798002</td>\n",
              "      <td>61.741849</td>\n",
              "      <td>57.436941</td>\n",
              "      <td>3958.504658</td>\n",
              "      <td>5.727570</td>\n",
              "      <td>5.731838</td>\n",
              "      <td>3.535902</td>\n",
              "    </tr>\n",
              "    <tr>\n",
              "      <th>std</th>\n",
              "      <td>0.482149</td>\n",
              "      <td>1.423439</td>\n",
              "      <td>2.241567</td>\n",
              "      <td>4033.920500</td>\n",
              "      <td>1.132485</td>\n",
              "      <td>1.168377</td>\n",
              "      <td>0.717971</td>\n",
              "    </tr>\n",
              "    <tr>\n",
              "      <th>min</th>\n",
              "      <td>0.200000</td>\n",
              "      <td>43.000000</td>\n",
              "      <td>44.000000</td>\n",
              "      <td>335.000000</td>\n",
              "      <td>0.000000</td>\n",
              "      <td>0.000000</td>\n",
              "      <td>0.000000</td>\n",
              "    </tr>\n",
              "    <tr>\n",
              "      <th>25%</th>\n",
              "      <td>0.380000</td>\n",
              "      <td>61.000000</td>\n",
              "      <td>56.000000</td>\n",
              "      <td>942.000000</td>\n",
              "      <td>4.660000</td>\n",
              "      <td>4.670000</td>\n",
              "      <td>2.870000</td>\n",
              "    </tr>\n",
              "    <tr>\n",
              "      <th>50%</th>\n",
              "      <td>0.710000</td>\n",
              "      <td>61.800000</td>\n",
              "      <td>57.000000</td>\n",
              "      <td>2391.000000</td>\n",
              "      <td>5.710000</td>\n",
              "      <td>5.720000</td>\n",
              "      <td>3.530000</td>\n",
              "    </tr>\n",
              "    <tr>\n",
              "      <th>75%</th>\n",
              "      <td>1.030000</td>\n",
              "      <td>62.500000</td>\n",
              "      <td>59.000000</td>\n",
              "      <td>5347.000000</td>\n",
              "      <td>6.510000</td>\n",
              "      <td>6.500000</td>\n",
              "      <td>4.020000</td>\n",
              "    </tr>\n",
              "    <tr>\n",
              "      <th>max</th>\n",
              "      <td>5.010000</td>\n",
              "      <td>79.000000</td>\n",
              "      <td>95.000000</td>\n",
              "      <td>18823.000000</td>\n",
              "      <td>10.740000</td>\n",
              "      <td>58.900000</td>\n",
              "      <td>31.800000</td>\n",
              "    </tr>\n",
              "  </tbody>\n",
              "</table>\n",
              "</div>\n",
              "      <button class=\"colab-df-convert\" onclick=\"convertToInteractive('df-a7f60345-e233-4a00-ad9f-2d6b2e67cfba')\"\n",
              "              title=\"Convert this dataframe to an interactive table.\"\n",
              "              style=\"display:none;\">\n",
              "        \n",
              "  <svg xmlns=\"http://www.w3.org/2000/svg\" height=\"24px\"viewBox=\"0 0 24 24\"\n",
              "       width=\"24px\">\n",
              "    <path d=\"M0 0h24v24H0V0z\" fill=\"none\"/>\n",
              "    <path d=\"M18.56 5.44l.94 2.06.94-2.06 2.06-.94-2.06-.94-.94-2.06-.94 2.06-2.06.94zm-11 1L8.5 8.5l.94-2.06 2.06-.94-2.06-.94L8.5 2.5l-.94 2.06-2.06.94zm10 10l.94 2.06.94-2.06 2.06-.94-2.06-.94-.94-2.06-.94 2.06-2.06.94z\"/><path d=\"M17.41 7.96l-1.37-1.37c-.4-.4-.92-.59-1.43-.59-.52 0-1.04.2-1.43.59L10.3 9.45l-7.72 7.72c-.78.78-.78 2.05 0 2.83L4 21.41c.39.39.9.59 1.41.59.51 0 1.02-.2 1.41-.59l7.78-7.78 2.81-2.81c.8-.78.8-2.07 0-2.86zM5.41 20L4 18.59l7.72-7.72 1.47 1.35L5.41 20z\"/>\n",
              "  </svg>\n",
              "      </button>\n",
              "      \n",
              "  <style>\n",
              "    .colab-df-container {\n",
              "      display:flex;\n",
              "      flex-wrap:wrap;\n",
              "      gap: 12px;\n",
              "    }\n",
              "\n",
              "    .colab-df-convert {\n",
              "      background-color: #E8F0FE;\n",
              "      border: none;\n",
              "      border-radius: 50%;\n",
              "      cursor: pointer;\n",
              "      display: none;\n",
              "      fill: #1967D2;\n",
              "      height: 32px;\n",
              "      padding: 0 0 0 0;\n",
              "      width: 32px;\n",
              "    }\n",
              "\n",
              "    .colab-df-convert:hover {\n",
              "      background-color: #E2EBFA;\n",
              "      box-shadow: 0px 1px 2px rgba(60, 64, 67, 0.3), 0px 1px 3px 1px rgba(60, 64, 67, 0.15);\n",
              "      fill: #174EA6;\n",
              "    }\n",
              "\n",
              "    [theme=dark] .colab-df-convert {\n",
              "      background-color: #3B4455;\n",
              "      fill: #D2E3FC;\n",
              "    }\n",
              "\n",
              "    [theme=dark] .colab-df-convert:hover {\n",
              "      background-color: #434B5C;\n",
              "      box-shadow: 0px 1px 3px 1px rgba(0, 0, 0, 0.15);\n",
              "      filter: drop-shadow(0px 1px 2px rgba(0, 0, 0, 0.3));\n",
              "      fill: #FFFFFF;\n",
              "    }\n",
              "  </style>\n",
              "\n",
              "      <script>\n",
              "        const buttonEl =\n",
              "          document.querySelector('#df-a7f60345-e233-4a00-ad9f-2d6b2e67cfba button.colab-df-convert');\n",
              "        buttonEl.style.display =\n",
              "          google.colab.kernel.accessAllowed ? 'block' : 'none';\n",
              "\n",
              "        async function convertToInteractive(key) {\n",
              "          const element = document.querySelector('#df-a7f60345-e233-4a00-ad9f-2d6b2e67cfba');\n",
              "          const dataTable =\n",
              "            await google.colab.kernel.invokeFunction('convertToInteractive',\n",
              "                                                     [key], {});\n",
              "          if (!dataTable) return;\n",
              "\n",
              "          const docLinkHtml = 'Like what you see? Visit the ' +\n",
              "            '<a target=\"_blank\" href=https://colab.research.google.com/notebooks/data_table.ipynb>data table notebook</a>'\n",
              "            + ' to learn more about interactive tables.';\n",
              "          element.innerHTML = '';\n",
              "          dataTable['output_type'] = 'display_data';\n",
              "          await google.colab.output.renderOutput(dataTable, element);\n",
              "          const docLink = document.createElement('div');\n",
              "          docLink.innerHTML = docLinkHtml;\n",
              "          element.appendChild(docLink);\n",
              "        }\n",
              "      </script>\n",
              "    </div>\n",
              "  </div>\n",
              "  "
            ]
          },
          "metadata": {},
          "execution_count": 16
        }
      ],
      "source": [
        "train_set.describe()"
      ]
    },
    {
      "cell_type": "markdown",
      "id": "32bbe8db",
      "metadata": {
        "id": "32bbe8db"
      },
      "source": [
        "## Data Analysis & Visualization"
      ]
    },
    {
      "cell_type": "code",
      "execution_count": null,
      "id": "819840d2",
      "metadata": {
        "colab": {
          "base_uri": "https://localhost:8080/"
        },
        "id": "819840d2",
        "outputId": "a43b52f7-7f6e-463e-e8f5-8f57e0fada52"
      },
      "outputs": [
        {
          "output_type": "execute_result",
          "data": {
            "text/plain": [
              "price    1.000000\n",
              "carat    0.923252\n",
              "x        0.888350\n",
              "y        0.858541\n",
              "z        0.856001\n",
              "table    0.136393\n",
              "depth   -0.016125\n",
              "Name: price, dtype: float64"
            ]
          },
          "metadata": {},
          "execution_count": 17
        }
      ],
      "source": [
        "corr_matrix = train_set.corr()\n",
        "corr_matrix[\"price\"].sort_values(ascending=False)"
      ]
    },
    {
      "cell_type": "code",
      "execution_count": null,
      "id": "10aa3c0c",
      "metadata": {
        "colab": {
          "base_uri": "https://localhost:8080/",
          "height": 879
        },
        "id": "10aa3c0c",
        "outputId": "a6451ff3-3099-4dc6-ec81-9b88fd32ab6c"
      },
      "outputs": [
        {
          "output_type": "display_data",
          "data": {
            "text/plain": [
              "<Figure size 1440x1080 with 9 Axes>"
            ],
            "image/png": "[encoded data removed]"
          },
          "metadata": {
            "needs_background": "light"
          }
        }
      ],
      "source": [
        "train_set.hist(bins = 40, figsize = (20,15))\n",
        "plt.show()"
      ]
    },
    {
      "cell_type": "code",
      "execution_count": null,
      "id": "d03ed949",
      "metadata": {
        "colab": {
          "base_uri": "https://localhost:8080/",
          "height": 1000
        },
        "id": "d03ed949",
        "outputId": "996c1825-ecd0-43fe-dbf0-837e87eeb41f"
      },
      "outputs": [
        {
          "output_type": "display_data",
          "data": {
            "text/plain": [
              "<Figure size 1260x1260 with 56 Axes>"
            ],
            "image/png": "[encoded data removed]"
          },
          "metadata": {
            "needs_background": "light"
          }
        }
      ],
      "source": [
        "ans =sns.pairplot(train_set)"
      ]
    },
    {
      "cell_type": "code",
      "execution_count": null,
      "id": "6b2951f9",
      "metadata": {
        "colab": {
          "base_uri": "https://localhost:8080/",
          "height": 487
        },
        "id": "6b2951f9",
        "outputId": "c8f4d532-e62c-4b9d-8aae-6afc8b3d784c"
      },
      "outputs": [
        {
          "output_type": "display_data",
          "data": {
            "text/plain": [
              "<Figure size 720x576 with 2 Axes>"
            ],
            "image/png": "[encoded data removed]"
          },
          "metadata": {
            "needs_background": "light"
          }
        }
      ],
      "source": [
        "# Plot the correlation with seaborn\n",
        "plt.subplots(figsize = (10, 8))\n",
        "sns.heatmap(corr_matrix, annot = True)\n",
        "plt.show()"
      ]
    },
    {
      "cell_type": "code",
      "execution_count": null,
      "id": "d3131397",
      "metadata": {
        "colab": {
          "base_uri": "https://localhost:8080/",
          "height": 351
        },
        "id": "d3131397",
        "outputId": "157efc8c-d32a-4c11-f92e-66b7c80511f1"
      },
      "outputs": [
        {
          "output_type": "stream",
          "name": "stderr",
          "text": [
            "/usr/local/lib/python3.7/dist-packages/seaborn/distributions.py:2619: FutureWarning: `distplot` is a deprecated function and will be removed in a future version. Please adapt your code to use either `displot` (a figure-level function with similar flexibility) or `histplot` (an axes-level function for histograms).\n",
            "  warnings.warn(msg, FutureWarning)\n"
          ]
        },
        {
          "output_type": "execute_result",
          "data": {
            "text/plain": [
              "<matplotlib.axes._subplots.AxesSubplot at 0x7f6c0cf16090>"
            ]
          },
          "metadata": {},
          "execution_count": 21
        },
        {
          "output_type": "display_data",
          "data": {
            "text/plain": [
              "<Figure size 432x288 with 1 Axes>"
            ],
            "image/png": "[encoded data removed]"
          },
          "metadata": {
            "needs_background": "light"
          }
        }
      ],
      "source": [
        "sns.distplot(train_set.price)"
      ]
    },
    {
      "cell_type": "code",
      "execution_count": null,
      "id": "996fc841",
      "metadata": {
        "colab": {
          "base_uri": "https://localhost:8080/"
        },
        "id": "996fc841",
        "outputId": "ff3db156-a53f-418b-9e9c-196e0afa8267"
      },
      "outputs": [
        {
          "output_type": "execute_result",
          "data": {
            "text/plain": [
              "carat      0\n",
              "cut        0\n",
              "color      0\n",
              "clarity    0\n",
              "depth      0\n",
              "table      0\n",
              "price      0\n",
              "x          0\n",
              "y          0\n",
              "z          0\n",
              "dtype: int64"
            ]
          },
          "metadata": {},
          "execution_count": 22
        }
      ],
      "source": [
        "train_set.isna().sum()"
      ]
    },
    {
      "cell_type": "code",
      "execution_count": null,
      "id": "566b5450",
      "metadata": {
        "colab": {
          "base_uri": "https://localhost:8080/"
        },
        "id": "566b5450",
        "outputId": "2b2c746b-cb56-4cb0-9117-9f4c82174c19"
      },
      "outputs": [
        {
          "output_type": "stream",
          "name": "stdout",
          "text": [
            "Number of rows with x == 0: 3 \n",
            "Number of rows with y == 0: 2 \n",
            "Number of rows with z == 0: 13 \n",
            "Number of rows with depth == 0: 0 \n"
          ]
        }
      ],
      "source": [
        "print(\"Number of rows with x == 0: {} \".format((train_set.x==0).sum()))\n",
        "print(\"Number of rows with y == 0: {} \".format((train_set.y==0).sum()))\n",
        "print(\"Number of rows with z == 0: {} \".format((train_set.z==0).sum()))\n",
        "print(\"Number of rows with depth == 0: {} \".format((train_set.depth==0).sum()))"
      ]
    },
    {
      "cell_type": "code",
      "execution_count": null,
      "id": "a63fcba6",
      "metadata": {
        "id": "a63fcba6"
      },
      "outputs": [],
      "source": [
        "train_set[['x','y','z']] = train_set[['x','y','z']].replace(0,np.NaN)"
      ]
    },
    {
      "cell_type": "code",
      "execution_count": null,
      "id": "3398d067",
      "metadata": {
        "colab": {
          "base_uri": "https://localhost:8080/"
        },
        "id": "3398d067",
        "outputId": "8f428378-3cdb-48ac-9b00-e69e070a46b5"
      },
      "outputs": [
        {
          "output_type": "execute_result",
          "data": {
            "text/plain": [
              "carat       0\n",
              "cut         0\n",
              "color       0\n",
              "clarity     0\n",
              "depth       0\n",
              "table       0\n",
              "price       0\n",
              "x           3\n",
              "y           2\n",
              "z          13\n",
              "dtype: int64"
            ]
          },
          "metadata": {},
          "execution_count": 25
        }
      ],
      "source": [
        "train_set.isnull().sum()"
      ]
    },
    {
      "cell_type": "code",
      "execution_count": null,
      "id": "e87870a4",
      "metadata": {
        "id": "e87870a4"
      },
      "outputs": [],
      "source": [
        "train_set.dropna(inplace=True)"
      ]
    },
    {
      "cell_type": "code",
      "execution_count": null,
      "id": "e40493ad",
      "metadata": {
        "colab": {
          "base_uri": "https://localhost:8080/"
        },
        "id": "e40493ad",
        "outputId": "c06669da-5f3f-4927-f633-fe86e288799d"
      },
      "outputs": [
        {
          "output_type": "execute_result",
          "data": {
            "text/plain": [
              "carat      0\n",
              "cut        0\n",
              "color      0\n",
              "clarity    0\n",
              "depth      0\n",
              "table      0\n",
              "price      0\n",
              "x          0\n",
              "y          0\n",
              "z          0\n",
              "dtype: int64"
            ]
          },
          "metadata": {},
          "execution_count": 27
        }
      ],
      "source": [
        "train_set.isnull().sum()"
      ]
    },
    {
      "cell_type": "code",
      "execution_count": null,
      "id": "c35c4d69",
      "metadata": {
        "colab": {
          "base_uri": "https://localhost:8080/"
        },
        "id": "c35c4d69",
        "outputId": "7c63efa9-797f-4755-c4ef-9b07f96f060d"
      },
      "outputs": [
        {
          "output_type": "execute_result",
          "data": {
            "text/plain": [
              "(34339, 10)"
            ]
          },
          "metadata": {},
          "execution_count": 28
        }
      ],
      "source": [
        "train_set.shape"
      ]
    },
    {
      "cell_type": "code",
      "execution_count": null,
      "id": "e255c218",
      "metadata": {
        "colab": {
          "base_uri": "https://localhost:8080/",
          "height": 279
        },
        "id": "e255c218",
        "outputId": "150763f0-0263-4121-ac70-a734f7162b5d"
      },
      "outputs": [
        {
          "output_type": "display_data",
          "data": {
            "text/plain": [
              "<Figure size 432x288 with 1 Axes>"
            ],
            "image/png": "[encoded data removed]"
          },
          "metadata": {
            "needs_background": "light"
          }
        }
      ],
      "source": [
        "ans = sns.countplot(data = train_set,x = 'cut')"
      ]
    },
    {
      "cell_type": "code",
      "execution_count": null,
      "id": "d0771b04",
      "metadata": {
        "colab": {
          "base_uri": "https://localhost:8080/",
          "height": 279
        },
        "id": "d0771b04",
        "outputId": "0e606903-172c-4f68-c1f4-1518a3adf49a"
      },
      "outputs": [
        {
          "output_type": "display_data",
          "data": {
            "text/plain": [
              "<Figure size 432x288 with 1 Axes>"
            ],
            "image/png": "[encoded data removed]"
          },
          "metadata": {
            "needs_background": "light"
          }
        }
      ],
      "source": [
        "ans = sns.barplot(data = train_set, x ='cut', y='price')"
      ]
    },
    {
      "cell_type": "code",
      "execution_count": null,
      "id": "92dc0fff",
      "metadata": {
        "colab": {
          "base_uri": "https://localhost:8080/",
          "height": 279
        },
        "id": "92dc0fff",
        "outputId": "35c24518-0a38-4a29-d4dd-8d256a9d4ff5"
      },
      "outputs": [
        {
          "output_type": "display_data",
          "data": {
            "text/plain": [
              "<Figure size 432x288 with 1 Axes>"
            ],
            "image/png": "[encoded data removed]"
          },
          "metadata": {
            "needs_background": "light"
          }
        }
      ],
      "source": [
        "ans = sns.countplot(data = train_set,x = 'color')"
      ]
    },
    {
      "cell_type": "code",
      "execution_count": null,
      "id": "1d583362",
      "metadata": {
        "colab": {
          "base_uri": "https://localhost:8080/",
          "height": 280
        },
        "id": "1d583362",
        "outputId": "70e967e8-ee8a-48c8-dd52-31444c5a7dfb"
      },
      "outputs": [
        {
          "output_type": "display_data",
          "data": {
            "text/plain": [
              "<Figure size 432x288 with 1 Axes>"
            ],
            "image/png": "[encoded data removed]"
          },
          "metadata": {
            "needs_background": "light"
          }
        }
      ],
      "source": [
        "ans = sns.barplot(data = train_set, x ='color', y='price')"
      ]
    },
    {
      "cell_type": "code",
      "execution_count": null,
      "id": "2683c5f1",
      "metadata": {
        "colab": {
          "base_uri": "https://localhost:8080/",
          "height": 279
        },
        "id": "2683c5f1",
        "outputId": "d2e7a5af-b413-42f1-a6b5-824d1a4d7eec"
      },
      "outputs": [
        {
          "output_type": "display_data",
          "data": {
            "text/plain": [
              "<Figure size 432x288 with 1 Axes>"
            ],
            "image/png": "[encoded data removed]"
          },
          "metadata": {
            "needs_background": "light"
          }
        }
      ],
      "source": [
        "ans = sns.countplot(data = train_set,x = 'clarity')"
      ]
    },
    {
      "cell_type": "code",
      "execution_count": null,
      "id": "24193206",
      "metadata": {
        "colab": {
          "base_uri": "https://localhost:8080/",
          "height": 279
        },
        "id": "24193206",
        "outputId": "f2fc7a40-0af3-4c9f-e04c-7f27cd3e6a4e"
      },
      "outputs": [
        {
          "output_type": "display_data",
          "data": {
            "text/plain": [
              "<Figure size 432x288 with 1 Axes>"
            ],
            "image/png": "[encoded data removed]"
          },
          "metadata": {
            "needs_background": "light"
          }
        }
      ],
      "source": [
        "\n",
        "ans = sns.barplot(data = train_set, x ='clarity', y='price')"
      ]
    },
    {
      "cell_type": "code",
      "execution_count": null,
      "id": "tdzvGfFF0UGD",
      "metadata": {
        "id": "tdzvGfFF0UGD"
      },
      "outputs": [],
      "source": [
        "layout_options = {\n",
        "    'paper_bgcolor':\"#383838\",\n",
        "    'plot_bgcolor':'#383838',\n",
        "    'title_font': dict(color='white'),\n",
        "    'legend_font': dict(color='white'),\n",
        "    'yaxis':dict(color=\"white\"),\n",
        "    'xaxis':dict(color=\"white\")\n",
        "    }"
      ]
    },
    {
      "cell_type": "markdown",
      "id": "47465cb9",
      "metadata": {
        "id": "47465cb9"
      },
      "source": [
        "## Feature Engineering"
      ]
    },
    {
      "cell_type": "code",
      "execution_count": null,
      "id": "82a4132c",
      "metadata": {
        "id": "82a4132c"
      },
      "outputs": [],
      "source": [
        "train_set['space'] = train_set['x'] * train_set['y']\n",
        "train_set['volume'] = train_set['x'] * train_set['y'] * train_set['z']"
      ]
    },
    {
      "cell_type": "code",
      "execution_count": null,
      "id": "57827044",
      "metadata": {
        "colab": {
          "base_uri": "https://localhost:8080/"
        },
        "id": "57827044",
        "outputId": "6de5e2c2-211f-4529-feb8-17893aeed992"
      },
      "outputs": [
        {
          "output_type": "execute_result",
          "data": {
            "text/plain": [
              "price     1.000000\n",
              "carat     0.923198\n",
              "space     0.900220\n",
              "volume    0.896333\n",
              "x         0.890439\n",
              "z         0.863795\n",
              "y         0.860145\n",
              "table     0.136583\n",
              "depth    -0.016347\n",
              "Name: price, dtype: float64"
            ]
          },
          "metadata": {},
          "execution_count": 40
        }
      ],
      "source": [
        "corr_matrix = train_set.corr()\n",
        "corr_matrix[\"price\"].sort_values(ascending=False)"
      ]
    },
    {
      "cell_type": "code",
      "execution_count": null,
      "id": "ee7934e2",
      "metadata": {
        "colab": {
          "base_uri": "https://localhost:8080/",
          "height": 206
        },
        "id": "ee7934e2",
        "outputId": "74d8fb40-400a-401a-d7b6-2c137dbc664c"
      },
      "outputs": [
        {
          "output_type": "execute_result",
          "data": {
            "text/plain": [
              "       carat        cut color clarity  depth  table   price    space  \\\n",
              "6620    0.90    Premium     H    VVS2   62.0   58.0  4355.0  37.7608   \n",
              "38308   0.52  Very Good     D     VS1   62.6   59.0  1860.0  25.8039   \n",
              "41706   0.47      Ideal     D    VVS1   62.0   54.0  2460.0  24.9999   \n",
              "22543   0.30      Ideal     E     VS2   62.6   54.0   658.0  18.5757   \n",
              "28532   0.38    Premium     I     VS1   61.3   60.0   898.0  21.4830   \n",
              "\n",
              "           volume  \n",
              "6620   143.868648  \n",
              "38308   82.056402  \n",
              "41706   77.499690  \n",
              "22543   50.154390  \n",
              "28532   61.011720  "
            ],
            "text/html": [
              "\n",
              "  <div id=\"df-2d1254db-2ce1-40fe-beed-dcd79b624614\">\n",
              "    <div class=\"colab-df-container\">\n",
              "      <div>\n",
              "<style scoped>\n",
              "    .dataframe tbody tr th:only-of-type {\n",
              "        vertical-align: middle;\n",
              "    }\n",
              "\n",
              "    .dataframe tbody tr th {\n",
              "        vertical-align: top;\n",
              "    }\n",
              "\n",
              "    .dataframe thead th {\n",
              "        text-align: right;\n",
              "    }\n",
              "</style>\n",
              "<table border=\"1\" class=\"dataframe\">\n",
              "  <thead>\n",
              "    <tr style=\"text-align: right;\">\n",
              "      <th></th>\n",
              "      <th>carat</th>\n",
              "      <th>cut</th>\n",
              "      <th>color</th>\n",
              "      <th>clarity</th>\n",
              "      <th>depth</th>\n",
              "      <th>table</th>\n",
              "      <th>price</th>\n",
              "      <th>space</th>\n",
              "      <th>volume</th>\n",
              "    </tr>\n",
              "  </thead>\n",
              "  <tbody>\n",
              "    <tr>\n",
              "      <th>6620</th>\n",
              "      <td>0.90</td>\n",
              "      <td>Premium</td>\n",
              "      <td>H</td>\n",
              "      <td>VVS2</td>\n",
              "      <td>62.0</td>\n",
              "      <td>58.0</td>\n",
              "      <td>4355.0</td>\n",
              "      <td>37.7608</td>\n",
              "      <td>143.868648</td>\n",
              "    </tr>\n",
              "    <tr>\n",
              "      <th>38308</th>\n",
              "      <td>0.52</td>\n",
              "      <td>Very Good</td>\n",
              "      <td>D</td>\n",
              "      <td>VS1</td>\n",
              "      <td>62.6</td>\n",
              "      <td>59.0</td>\n",
              "      <td>1860.0</td>\n",
              "      <td>25.8039</td>\n",
              "      <td>82.056402</td>\n",
              "    </tr>\n",
              "    <tr>\n",
              "      <th>41706</th>\n",
              "      <td>0.47</td>\n",
              "      <td>Ideal</td>\n",
              "      <td>D</td>\n",
              "      <td>VVS1</td>\n",
              "      <td>62.0</td>\n",
              "      <td>54.0</td>\n",
              "      <td>2460.0</td>\n",
              "      <td>24.9999</td>\n",
              "      <td>77.499690</td>\n",
              "    </tr>\n",
              "    <tr>\n",
              "      <th>22543</th>\n",
              "      <td>0.30</td>\n",
              "      <td>Ideal</td>\n",
              "      <td>E</td>\n",
              "      <td>VS2</td>\n",
              "      <td>62.6</td>\n",
              "      <td>54.0</td>\n",
              "      <td>658.0</td>\n",
              "      <td>18.5757</td>\n",
              "      <td>50.154390</td>\n",
              "    </tr>\n",
              "    <tr>\n",
              "      <th>28532</th>\n",
              "      <td>0.38</td>\n",
              "      <td>Premium</td>\n",
              "      <td>I</td>\n",
              "      <td>VS1</td>\n",
              "      <td>61.3</td>\n",
              "      <td>60.0</td>\n",
              "      <td>898.0</td>\n",
              "      <td>21.4830</td>\n",
              "      <td>61.011720</td>\n",
              "    </tr>\n",
              "  </tbody>\n",
              "</table>\n",
              "</div>\n",
              "      <button class=\"colab-df-convert\" onclick=\"convertToInteractive('df-2d1254db-2ce1-40fe-beed-dcd79b624614')\"\n",
              "              title=\"Convert this dataframe to an interactive table.\"\n",
              "              style=\"display:none;\">\n",
              "        \n",
              "  <svg xmlns=\"http://www.w3.org/2000/svg\" height=\"24px\"viewBox=\"0 0 24 24\"\n",
              "       width=\"24px\">\n",
              "    <path d=\"M0 0h24v24H0V0z\" fill=\"none\"/>\n",
              "    <path d=\"M18.56 5.44l.94 2.06.94-2.06 2.06-.94-2.06-.94-.94-2.06-.94 2.06-2.06.94zm-11 1L8.5 8.5l.94-2.06 2.06-.94-2.06-.94L8.5 2.5l-.94 2.06-2.06.94zm10 10l.94 2.06.94-2.06 2.06-.94-2.06-.94-.94-2.06-.94 2.06-2.06.94z\"/><path d=\"M17.41 7.96l-1.37-1.37c-.4-.4-.92-.59-1.43-.59-.52 0-1.04.2-1.43.59L10.3 9.45l-7.72 7.72c-.78.78-.78 2.05 0 2.83L4 21.41c.39.39.9.59 1.41.59.51 0 1.02-.2 1.41-.59l7.78-7.78 2.81-2.81c.8-.78.8-2.07 0-2.86zM5.41 20L4 18.59l7.72-7.72 1.47 1.35L5.41 20z\"/>\n",
              "  </svg>\n",
              "      </button>\n",
              "      \n",
              "  <style>\n",
              "    .colab-df-container {\n",
              "      display:flex;\n",
              "      flex-wrap:wrap;\n",
              "      gap: 12px;\n",
              "    }\n",
              "\n",
              "    .colab-df-convert {\n",
              "      background-color: #E8F0FE;\n",
              "      border: none;\n",
              "      border-radius: 50%;\n",
              "      cursor: pointer;\n",
              "      display: none;\n",
              "      fill: #1967D2;\n",
              "      height: 32px;\n",
              "      padding: 0 0 0 0;\n",
              "      width: 32px;\n",
              "    }\n",
              "\n",
              "    .colab-df-convert:hover {\n",
              "      background-color: #E2EBFA;\n",
              "      box-shadow: 0px 1px 2px rgba(60, 64, 67, 0.3), 0px 1px 3px 1px rgba(60, 64, 67, 0.15);\n",
              "      fill: #174EA6;\n",
              "    }\n",
              "\n",
              "    [theme=dark] .colab-df-convert {\n",
              "      background-color: #3B4455;\n",
              "      fill: #D2E3FC;\n",
              "    }\n",
              "\n",
              "    [theme=dark] .colab-df-convert:hover {\n",
              "      background-color: #434B5C;\n",
              "      box-shadow: 0px 1px 3px 1px rgba(0, 0, 0, 0.15);\n",
              "      filter: drop-shadow(0px 1px 2px rgba(0, 0, 0, 0.3));\n",
              "      fill: #FFFFFF;\n",
              "    }\n",
              "  </style>\n",
              "\n",
              "      <script>\n",
              "        const buttonEl =\n",
              "          document.querySelector('#df-2d1254db-2ce1-40fe-beed-dcd79b624614 button.colab-df-convert');\n",
              "        buttonEl.style.display =\n",
              "          google.colab.kernel.accessAllowed ? 'block' : 'none';\n",
              "\n",
              "        async function convertToInteractive(key) {\n",
              "          const element = document.querySelector('#df-2d1254db-2ce1-40fe-beed-dcd79b624614');\n",
              "          const dataTable =\n",
              "            await google.colab.kernel.invokeFunction('convertToInteractive',\n",
              "                                                     [key], {});\n",
              "          if (!dataTable) return;\n",
              "\n",
              "          const docLinkHtml = 'Like what you see? Visit the ' +\n",
              "            '<a target=\"_blank\" href=https://colab.research.google.com/notebooks/data_table.ipynb>data table notebook</a>'\n",
              "            + ' to learn more about interactive tables.';\n",
              "          element.innerHTML = '';\n",
              "          dataTable['output_type'] = 'display_data';\n",
              "          await google.colab.output.renderOutput(dataTable, element);\n",
              "          const docLink = document.createElement('div');\n",
              "          docLink.innerHTML = docLinkHtml;\n",
              "          element.appendChild(docLink);\n",
              "        }\n",
              "      </script>\n",
              "    </div>\n",
              "  </div>\n",
              "  "
            ]
          },
          "metadata": {},
          "execution_count": 41
        }
      ],
      "source": [
        "train_set.drop(['x','y','z'], axis = 1, inplace = True)\n",
        "train_set.head()"
      ]
    },
    {
      "cell_type": "markdown",
      "id": "CmuFnWVKBbFr",
      "metadata": {
        "id": "CmuFnWVKBbFr"
      },
      "source": [
        "##One hot Encoding"
      ]
    },
    {
      "cell_type": "code",
      "execution_count": null,
      "id": "4rfqNEP3A6-4",
      "metadata": {
        "colab": {
          "base_uri": "https://localhost:8080/",
          "height": 299
        },
        "id": "4rfqNEP3A6-4",
        "outputId": "7f2143ce-7f0a-45ef-e7da-180fe9c46d2d"
      },
      "outputs": [
        {
          "output_type": "execute_result",
          "data": {
            "text/plain": [
              "       carat  depth  table   price    space      volume  cut_Fair  cut_Good  \\\n",
              "6620    0.90   62.0   58.0  4355.0  37.7608  143.868648         0         0   \n",
              "38308   0.52   62.6   59.0  1860.0  25.8039   82.056402         0         0   \n",
              "41706   0.47   62.0   54.0  2460.0  24.9999   77.499690         0         0   \n",
              "22543   0.30   62.6   54.0   658.0  18.5757   50.154390         0         0   \n",
              "28532   0.38   61.3   60.0   898.0  21.4830   61.011720         0         0   \n",
              "\n",
              "       cut_Ideal  cut_Premium  ...  color_I  color_J  clarity_I1  clarity_IF  \\\n",
              "6620           0            1  ...        0        0           0           0   \n",
              "38308          0            0  ...        0        0           0           0   \n",
              "41706          1            0  ...        0        0           0           0   \n",
              "22543          1            0  ...        0        0           0           0   \n",
              "28532          0            1  ...        1        0           0           0   \n",
              "\n",
              "       clarity_SI1  clarity_SI2  clarity_VS1  clarity_VS2  clarity_VVS1  \\\n",
              "6620             0            0            0            0             0   \n",
              "38308            0            0            1            0             0   \n",
              "41706            0            0            0            0             1   \n",
              "22543            0            0            0            1             0   \n",
              "28532            0            0            1            0             0   \n",
              "\n",
              "       clarity_VVS2  \n",
              "6620              1  \n",
              "38308             0  \n",
              "41706             0  \n",
              "22543             0  \n",
              "28532             0  \n",
              "\n",
              "[5 rows x 26 columns]"
            ],
            "text/html": [
              "\n",
              "  <div id=\"df-d4f39330-0d51-4fb1-872b-2b933b85c181\">\n",
              "    <div class=\"colab-df-container\">\n",
              "      <div>\n",
              "<style scoped>\n",
              "    .dataframe tbody tr th:only-of-type {\n",
              "        vertical-align: middle;\n",
              "    }\n",
              "\n",
              "    .dataframe tbody tr th {\n",
              "        vertical-align: top;\n",
              "    }\n",
              "\n",
              "    .dataframe thead th {\n",
              "        text-align: right;\n",
              "    }\n",
              "</style>\n",
              "<table border=\"1\" class=\"dataframe\">\n",
              "  <thead>\n",
              "    <tr style=\"text-align: right;\">\n",
              "      <th></th>\n",
              "      <th>carat</th>\n",
              "      <th>depth</th>\n",
              "      <th>table</th>\n",
              "      <th>price</th>\n",
              "      <th>space</th>\n",
              "      <th>volume</th>\n",
              "      <th>cut_Fair</th>\n",
              "      <th>cut_Good</th>\n",
              "      <th>cut_Ideal</th>\n",
              "      <th>cut_Premium</th>\n",
              "      <th>...</th>\n",
              "      <th>color_I</th>\n",
              "      <th>color_J</th>\n",
              "      <th>clarity_I1</th>\n",
              "      <th>clarity_IF</th>\n",
              "      <th>clarity_SI1</th>\n",
              "      <th>clarity_SI2</th>\n",
              "      <th>clarity_VS1</th>\n",
              "      <th>clarity_VS2</th>\n",
              "      <th>clarity_VVS1</th>\n",
              "      <th>clarity_VVS2</th>\n",
              "    </tr>\n",
              "  </thead>\n",
              "  <tbody>\n",
              "    <tr>\n",
              "      <th>6620</th>\n",
              "      <td>0.90</td>\n",
              "      <td>62.0</td>\n",
              "      <td>58.0</td>\n",
              "      <td>4355.0</td>\n",
              "      <td>37.7608</td>\n",
              "      <td>143.868648</td>\n",
              "      <td>0</td>\n",
              "      <td>0</td>\n",
              "      <td>0</td>\n",
              "      <td>1</td>\n",
              "      <td>...</td>\n",
              "      <td>0</td>\n",
              "      <td>0</td>\n",
              "      <td>0</td>\n",
              "      <td>0</td>\n",
              "      <td>0</td>\n",
              "      <td>0</td>\n",
              "      <td>0</td>\n",
              "      <td>0</td>\n",
              "      <td>0</td>\n",
              "      <td>1</td>\n",
              "    </tr>\n",
              "    <tr>\n",
              "      <th>38308</th>\n",
              "      <td>0.52</td>\n",
              "      <td>62.6</td>\n",
              "      <td>59.0</td>\n",
              "      <td>1860.0</td>\n",
              "      <td>25.8039</td>\n",
              "      <td>82.056402</td>\n",
              "      <td>0</td>\n",
              "      <td>0</td>\n",
              "      <td>0</td>\n",
              "      <td>0</td>\n",
              "      <td>...</td>\n",
              "      <td>0</td>\n",
              "      <td>0</td>\n",
              "      <td>0</td>\n",
              "      <td>0</td>\n",
              "      <td>0</td>\n",
              "      <td>0</td>\n",
              "      <td>1</td>\n",
              "      <td>0</td>\n",
              "      <td>0</td>\n",
              "      <td>0</td>\n",
              "    </tr>\n",
              "    <tr>\n",
              "      <th>41706</th>\n",
              "      <td>0.47</td>\n",
              "      <td>62.0</td>\n",
              "      <td>54.0</td>\n",
              "      <td>2460.0</td>\n",
              "      <td>24.9999</td>\n",
              "      <td>77.499690</td>\n",
              "      <td>0</td>\n",
              "      <td>0</td>\n",
              "      <td>1</td>\n",
              "      <td>0</td>\n",
              "      <td>...</td>\n",
              "      <td>0</td>\n",
              "      <td>0</td>\n",
              "      <td>0</td>\n",
              "      <td>0</td>\n",
              "      <td>0</td>\n",
              "      <td>0</td>\n",
              "      <td>0</td>\n",
              "      <td>0</td>\n",
              "      <td>1</td>\n",
              "      <td>0</td>\n",
              "    </tr>\n",
              "    <tr>\n",
              "      <th>22543</th>\n",
              "      <td>0.30</td>\n",
              "      <td>62.6</td>\n",
              "      <td>54.0</td>\n",
              "      <td>658.0</td>\n",
              "      <td>18.5757</td>\n",
              "      <td>50.154390</td>\n",
              "      <td>0</td>\n",
              "      <td>0</td>\n",
              "      <td>1</td>\n",
              "      <td>0</td>\n",
              "      <td>...</td>\n",
              "      <td>0</td>\n",
              "      <td>0</td>\n",
              "      <td>0</td>\n",
              "      <td>0</td>\n",
              "      <td>0</td>\n",
              "      <td>0</td>\n",
              "      <td>0</td>\n",
              "      <td>1</td>\n",
              "      <td>0</td>\n",
              "      <td>0</td>\n",
              "    </tr>\n",
              "    <tr>\n",
              "      <th>28532</th>\n",
              "      <td>0.38</td>\n",
              "      <td>61.3</td>\n",
              "      <td>60.0</td>\n",
              "      <td>898.0</td>\n",
              "      <td>21.4830</td>\n",
              "      <td>61.011720</td>\n",
              "      <td>0</td>\n",
              "      <td>0</td>\n",
              "      <td>0</td>\n",
              "      <td>1</td>\n",
              "      <td>...</td>\n",
              "      <td>1</td>\n",
              "      <td>0</td>\n",
              "      <td>0</td>\n",
              "      <td>0</td>\n",
              "      <td>0</td>\n",
              "      <td>0</td>\n",
              "      <td>1</td>\n",
              "      <td>0</td>\n",
              "      <td>0</td>\n",
              "      <td>0</td>\n",
              "    </tr>\n",
              "  </tbody>\n",
              "</table>\n",
              "<p>5 rows × 26 columns</p>\n",
              "</div>\n",
              "      <button class=\"colab-df-convert\" onclick=\"convertToInteractive('df-d4f39330-0d51-4fb1-872b-2b933b85c181')\"\n",
              "              title=\"Convert this dataframe to an interactive table.\"\n",
              "              style=\"display:none;\">\n",
              "        \n",
              "  <svg xmlns=\"http://www.w3.org/2000/svg\" height=\"24px\"viewBox=\"0 0 24 24\"\n",
              "       width=\"24px\">\n",
              "    <path d=\"M0 0h24v24H0V0z\" fill=\"none\"/>\n",
              "    <path d=\"M18.56 5.44l.94 2.06.94-2.06 2.06-.94-2.06-.94-.94-2.06-.94 2.06-2.06.94zm-11 1L8.5 8.5l.94-2.06 2.06-.94-2.06-.94L8.5 2.5l-.94 2.06-2.06.94zm10 10l.94 2.06.94-2.06 2.06-.94-2.06-.94-.94-2.06-.94 2.06-2.06.94z\"/><path d=\"M17.41 7.96l-1.37-1.37c-.4-.4-.92-.59-1.43-.59-.52 0-1.04.2-1.43.59L10.3 9.45l-7.72 7.72c-.78.78-.78 2.05 0 2.83L4 21.41c.39.39.9.59 1.41.59.51 0 1.02-.2 1.41-.59l7.78-7.78 2.81-2.81c.8-.78.8-2.07 0-2.86zM5.41 20L4 18.59l7.72-7.72 1.47 1.35L5.41 20z\"/>\n",
              "  </svg>\n",
              "      </button>\n",
              "      \n",
              "  <style>\n",
              "    .colab-df-container {\n",
              "      display:flex;\n",
              "      flex-wrap:wrap;\n",
              "      gap: 12px;\n",
              "    }\n",
              "\n",
              "    .colab-df-convert {\n",
              "      background-color: #E8F0FE;\n",
              "      border: none;\n",
              "      border-radius: 50%;\n",
              "      cursor: pointer;\n",
              "      display: none;\n",
              "      fill: #1967D2;\n",
              "      height: 32px;\n",
              "      padding: 0 0 0 0;\n",
              "      width: 32px;\n",
              "    }\n",
              "\n",
              "    .colab-df-convert:hover {\n",
              "      background-color: #E2EBFA;\n",
              "      box-shadow: 0px 1px 2px rgba(60, 64, 67, 0.3), 0px 1px 3px 1px rgba(60, 64, 67, 0.15);\n",
              "      fill: #174EA6;\n",
              "    }\n",
              "\n",
              "    [theme=dark] .colab-df-convert {\n",
              "      background-color: #3B4455;\n",
              "      fill: #D2E3FC;\n",
              "    }\n",
              "\n",
              "    [theme=dark] .colab-df-convert:hover {\n",
              "      background-color: #434B5C;\n",
              "      box-shadow: 0px 1px 3px 1px rgba(0, 0, 0, 0.15);\n",
              "      filter: drop-shadow(0px 1px 2px rgba(0, 0, 0, 0.3));\n",
              "      fill: #FFFFFF;\n",
              "    }\n",
              "  </style>\n",
              "\n",
              "      <script>\n",
              "        const buttonEl =\n",
              "          document.querySelector('#df-d4f39330-0d51-4fb1-872b-2b933b85c181 button.colab-df-convert');\n",
              "        buttonEl.style.display =\n",
              "          google.colab.kernel.accessAllowed ? 'block' : 'none';\n",
              "\n",
              "        async function convertToInteractive(key) {\n",
              "          const element = document.querySelector('#df-d4f39330-0d51-4fb1-872b-2b933b85c181');\n",
              "          const dataTable =\n",
              "            await google.colab.kernel.invokeFunction('convertToInteractive',\n",
              "                                                     [key], {});\n",
              "          if (!dataTable) return;\n",
              "\n",
              "          const docLinkHtml = 'Like what you see? Visit the ' +\n",
              "            '<a target=\"_blank\" href=https://colab.research.google.com/notebooks/data_table.ipynb>data table notebook</a>'\n",
              "            + ' to learn more about interactive tables.';\n",
              "          element.innerHTML = '';\n",
              "          dataTable['output_type'] = 'display_data';\n",
              "          await google.colab.output.renderOutput(dataTable, element);\n",
              "          const docLink = document.createElement('div');\n",
              "          docLink.innerHTML = docLinkHtml;\n",
              "          element.appendChild(docLink);\n",
              "        }\n",
              "      </script>\n",
              "    </div>\n",
              "  </div>\n",
              "  "
            ]
          },
          "metadata": {},
          "execution_count": 42
        }
      ],
      "source": [
        "one_hot_encoders_train_data =  pd.get_dummies(train_set)\n",
        "cols = one_hot_encoders_train_data.columns\n",
        "train_clean_data = pd.DataFrame(one_hot_encoders_train_data,columns= cols)\n",
        "train_clean_data.head()"
      ]
    },
    {
      "cell_type": "code",
      "execution_count": null,
      "id": "su4sR2j5BTAs",
      "metadata": {
        "colab": {
          "base_uri": "https://localhost:8080/",
          "height": 299
        },
        "id": "su4sR2j5BTAs",
        "outputId": "81848ce9-60a1-4be5-f5b2-e84642f72d38"
      },
      "outputs": [
        {
          "output_type": "execute_result",
          "data": {
            "text/plain": [
              "          carat     depth     table   price     space    volume  cut_Fair  \\\n",
              "6620   0.212412  0.181246  0.251294  4355.0  0.266369  0.172683         0   \n",
              "38308 -0.576328  0.602826  0.697425  1860.0 -0.603425 -0.595412         0   \n",
              "41706 -0.680109  0.181246 -1.533234  2460.0 -0.661911 -0.652035         0   \n",
              "22543 -1.032967  0.602826 -1.533234   658.0 -1.129234 -0.991835         0   \n",
              "28532 -0.866916 -0.310598  1.143557   898.0 -0.917745 -0.856919         0   \n",
              "\n",
              "       cut_Good  cut_Ideal  cut_Premium  ...  color_I  color_J  clarity_I1  \\\n",
              "6620          0          0            1  ...        0        0           0   \n",
              "38308         0          0            0  ...        0        0           0   \n",
              "41706         0          1            0  ...        0        0           0   \n",
              "22543         0          1            0  ...        0        0           0   \n",
              "28532         0          0            1  ...        1        0           0   \n",
              "\n",
              "       clarity_IF  clarity_SI1  clarity_SI2  clarity_VS1  clarity_VS2  \\\n",
              "6620            0            0            0            0            0   \n",
              "38308           0            0            0            1            0   \n",
              "41706           0            0            0            0            0   \n",
              "22543           0            0            0            0            1   \n",
              "28532           0            0            0            1            0   \n",
              "\n",
              "       clarity_VVS1  clarity_VVS2  \n",
              "6620              0             1  \n",
              "38308             0             0  \n",
              "41706             1             0  \n",
              "22543             0             0  \n",
              "28532             0             0  \n",
              "\n",
              "[5 rows x 26 columns]"
            ],
            "text/html": [
              "\n",
              "  <div id=\"df-6fb72d43-3850-4274-935e-b571af406cd0\">\n",
              "    <div class=\"colab-df-container\">\n",
              "      <div>\n",
              "<style scoped>\n",
              "    .dataframe tbody tr th:only-of-type {\n",
              "        vertical-align: middle;\n",
              "    }\n",
              "\n",
              "    .dataframe tbody tr th {\n",
              "        vertical-align: top;\n",
              "    }\n",
              "\n",
              "    .dataframe thead th {\n",
              "        text-align: right;\n",
              "    }\n",
              "</style>\n",
              "<table border=\"1\" class=\"dataframe\">\n",
              "  <thead>\n",
              "    <tr style=\"text-align: right;\">\n",
              "      <th></th>\n",
              "      <th>carat</th>\n",
              "      <th>depth</th>\n",
              "      <th>table</th>\n",
              "      <th>price</th>\n",
              "      <th>space</th>\n",
              "      <th>volume</th>\n",
              "      <th>cut_Fair</th>\n",
              "      <th>cut_Good</th>\n",
              "      <th>cut_Ideal</th>\n",
              "      <th>cut_Premium</th>\n",
              "      <th>...</th>\n",
              "      <th>color_I</th>\n",
              "      <th>color_J</th>\n",
              "      <th>clarity_I1</th>\n",
              "      <th>clarity_IF</th>\n",
              "      <th>clarity_SI1</th>\n",
              "      <th>clarity_SI2</th>\n",
              "      <th>clarity_VS1</th>\n",
              "      <th>clarity_VS2</th>\n",
              "      <th>clarity_VVS1</th>\n",
              "      <th>clarity_VVS2</th>\n",
              "    </tr>\n",
              "  </thead>\n",
              "  <tbody>\n",
              "    <tr>\n",
              "      <th>6620</th>\n",
              "      <td>0.212412</td>\n",
              "      <td>0.181246</td>\n",
              "      <td>0.251294</td>\n",
              "      <td>4355.0</td>\n",
              "      <td>0.266369</td>\n",
              "      <td>0.172683</td>\n",
              "      <td>0</td>\n",
              "      <td>0</td>\n",
              "      <td>0</td>\n",
              "      <td>1</td>\n",
              "      <td>...</td>\n",
              "      <td>0</td>\n",
              "      <td>0</td>\n",
              "      <td>0</td>\n",
              "      <td>0</td>\n",
              "      <td>0</td>\n",
              "      <td>0</td>\n",
              "      <td>0</td>\n",
              "      <td>0</td>\n",
              "      <td>0</td>\n",
              "      <td>1</td>\n",
              "    </tr>\n",
              "    <tr>\n",
              "      <th>38308</th>\n",
              "      <td>-0.576328</td>\n",
              "      <td>0.602826</td>\n",
              "      <td>0.697425</td>\n",
              "      <td>1860.0</td>\n",
              "      <td>-0.603425</td>\n",
              "      <td>-0.595412</td>\n",
              "      <td>0</td>\n",
              "      <td>0</td>\n",
              "      <td>0</td>\n",
              "      <td>0</td>\n",
              "      <td>...</td>\n",
              "      <td>0</td>\n",
              "      <td>0</td>\n",
              "      <td>0</td>\n",
              "      <td>0</td>\n",
              "      <td>0</td>\n",
              "      <td>0</td>\n",
              "      <td>1</td>\n",
              "      <td>0</td>\n",
              "      <td>0</td>\n",
              "      <td>0</td>\n",
              "    </tr>\n",
              "    <tr>\n",
              "      <th>41706</th>\n",
              "      <td>-0.680109</td>\n",
              "      <td>0.181246</td>\n",
              "      <td>-1.533234</td>\n",
              "      <td>2460.0</td>\n",
              "      <td>-0.661911</td>\n",
              "      <td>-0.652035</td>\n",
              "      <td>0</td>\n",
              "      <td>0</td>\n",
              "      <td>1</td>\n",
              "      <td>0</td>\n",
              "      <td>...</td>\n",
              "      <td>0</td>\n",
              "      <td>0</td>\n",
              "      <td>0</td>\n",
              "      <td>0</td>\n",
              "      <td>0</td>\n",
              "      <td>0</td>\n",
              "      <td>0</td>\n",
              "      <td>0</td>\n",
              "      <td>1</td>\n",
              "      <td>0</td>\n",
              "    </tr>\n",
              "    <tr>\n",
              "      <th>22543</th>\n",
              "      <td>-1.032967</td>\n",
              "      <td>0.602826</td>\n",
              "      <td>-1.533234</td>\n",
              "      <td>658.0</td>\n",
              "      <td>-1.129234</td>\n",
              "      <td>-0.991835</td>\n",
              "      <td>0</td>\n",
              "      <td>0</td>\n",
              "      <td>1</td>\n",
              "      <td>0</td>\n",
              "      <td>...</td>\n",
              "      <td>0</td>\n",
              "      <td>0</td>\n",
              "      <td>0</td>\n",
              "      <td>0</td>\n",
              "      <td>0</td>\n",
              "      <td>0</td>\n",
              "      <td>0</td>\n",
              "      <td>1</td>\n",
              "      <td>0</td>\n",
              "      <td>0</td>\n",
              "    </tr>\n",
              "    <tr>\n",
              "      <th>28532</th>\n",
              "      <td>-0.866916</td>\n",
              "      <td>-0.310598</td>\n",
              "      <td>1.143557</td>\n",
              "      <td>898.0</td>\n",
              "      <td>-0.917745</td>\n",
              "      <td>-0.856919</td>\n",
              "      <td>0</td>\n",
              "      <td>0</td>\n",
              "      <td>0</td>\n",
              "      <td>1</td>\n",
              "      <td>...</td>\n",
              "      <td>1</td>\n",
              "      <td>0</td>\n",
              "      <td>0</td>\n",
              "      <td>0</td>\n",
              "      <td>0</td>\n",
              "      <td>0</td>\n",
              "      <td>1</td>\n",
              "      <td>0</td>\n",
              "      <td>0</td>\n",
              "      <td>0</td>\n",
              "    </tr>\n",
              "  </tbody>\n",
              "</table>\n",
              "<p>5 rows × 26 columns</p>\n",
              "</div>\n",
              "      <button class=\"colab-df-convert\" onclick=\"convertToInteractive('df-6fb72d43-3850-4274-935e-b571af406cd0')\"\n",
              "              title=\"Convert this dataframe to an interactive table.\"\n",
              "              style=\"display:none;\">\n",
              "        \n",
              "  <svg xmlns=\"http://www.w3.org/2000/svg\" height=\"24px\"viewBox=\"0 0 24 24\"\n",
              "       width=\"24px\">\n",
              "    <path d=\"M0 0h24v24H0V0z\" fill=\"none\"/>\n",
              "    <path d=\"M18.56 5.44l.94 2.06.94-2.06 2.06-.94-2.06-.94-.94-2.06-.94 2.06-2.06.94zm-11 1L8.5 8.5l.94-2.06 2.06-.94-2.06-.94L8.5 2.5l-.94 2.06-2.06.94zm10 10l.94 2.06.94-2.06 2.06-.94-2.06-.94-.94-2.06-.94 2.06-2.06.94z\"/><path d=\"M17.41 7.96l-1.37-1.37c-.4-.4-.92-.59-1.43-.59-.52 0-1.04.2-1.43.59L10.3 9.45l-7.72 7.72c-.78.78-.78 2.05 0 2.83L4 21.41c.39.39.9.59 1.41.59.51 0 1.02-.2 1.41-.59l7.78-7.78 2.81-2.81c.8-.78.8-2.07 0-2.86zM5.41 20L4 18.59l7.72-7.72 1.47 1.35L5.41 20z\"/>\n",
              "  </svg>\n",
              "      </button>\n",
              "      \n",
              "  <style>\n",
              "    .colab-df-container {\n",
              "      display:flex;\n",
              "      flex-wrap:wrap;\n",
              "      gap: 12px;\n",
              "    }\n",
              "\n",
              "    .colab-df-convert {\n",
              "      background-color: #E8F0FE;\n",
              "      border: none;\n",
              "      border-radius: 50%;\n",
              "      cursor: pointer;\n",
              "      display: none;\n",
              "      fill: #1967D2;\n",
              "      height: 32px;\n",
              "      padding: 0 0 0 0;\n",
              "      width: 32px;\n",
              "    }\n",
              "\n",
              "    .colab-df-convert:hover {\n",
              "      background-color: #E2EBFA;\n",
              "      box-shadow: 0px 1px 2px rgba(60, 64, 67, 0.3), 0px 1px 3px 1px rgba(60, 64, 67, 0.15);\n",
              "      fill: #174EA6;\n",
              "    }\n",
              "\n",
              "    [theme=dark] .colab-df-convert {\n",
              "      background-color: #3B4455;\n",
              "      fill: #D2E3FC;\n",
              "    }\n",
              "\n",
              "    [theme=dark] .colab-df-convert:hover {\n",
              "      background-color: #434B5C;\n",
              "      box-shadow: 0px 1px 3px 1px rgba(0, 0, 0, 0.15);\n",
              "      filter: drop-shadow(0px 1px 2px rgba(0, 0, 0, 0.3));\n",
              "      fill: #FFFFFF;\n",
              "    }\n",
              "  </style>\n",
              "\n",
              "      <script>\n",
              "        const buttonEl =\n",
              "          document.querySelector('#df-6fb72d43-3850-4274-935e-b571af406cd0 button.colab-df-convert');\n",
              "        buttonEl.style.display =\n",
              "          google.colab.kernel.accessAllowed ? 'block' : 'none';\n",
              "\n",
              "        async function convertToInteractive(key) {\n",
              "          const element = document.querySelector('#df-6fb72d43-3850-4274-935e-b571af406cd0');\n",
              "          const dataTable =\n",
              "            await google.colab.kernel.invokeFunction('convertToInteractive',\n",
              "                                                     [key], {});\n",
              "          if (!dataTable) return;\n",
              "\n",
              "          const docLinkHtml = 'Like what you see? Visit the ' +\n",
              "            '<a target=\"_blank\" href=https://colab.research.google.com/notebooks/data_table.ipynb>data table notebook</a>'\n",
              "            + ' to learn more about interactive tables.';\n",
              "          element.innerHTML = '';\n",
              "          dataTable['output_type'] = 'display_data';\n",
              "          await google.colab.output.renderOutput(dataTable, element);\n",
              "          const docLink = document.createElement('div');\n",
              "          docLink.innerHTML = docLinkHtml;\n",
              "          element.appendChild(docLink);\n",
              "        }\n",
              "      </script>\n",
              "    </div>\n",
              "  </div>\n",
              "  "
            ]
          },
          "metadata": {},
          "execution_count": 43
        }
      ],
      "source": [
        "from sklearn.preprocessing import StandardScaler\n",
        "sc_X = StandardScaler()\n",
        "numericals =  pd.DataFrame(sc_X.fit_transform(train_clean_data[['carat','depth','table','space','volume']]),\n",
        "                           columns=['carat','depth','table','space','volume'],\n",
        "                           index=train_clean_data.index)\n",
        "\n",
        "\n",
        "train_clean_data_standard = train_clean_data.copy(deep=True)\n",
        "train_clean_data_standard[['carat','depth','table','space','volume']] = numericals[['carat','depth','table','space','volume']]\n",
        "train_clean_data_standard.head()"
      ]
    },
    {
      "cell_type": "code",
      "execution_count": null,
      "id": "56OqHiAEFdg7",
      "metadata": {
        "id": "56OqHiAEFdg7"
      },
      "outputs": [],
      "source": [
        "X_train = train_clean_data_standard.drop([\"price\"],axis=1)\n",
        "Y_train = train_clean_data_standard.price"
      ]
    },
    {
      "cell_type": "code",
      "execution_count": null,
      "id": "GIyTuN3yrpuI",
      "metadata": {
        "colab": {
          "base_uri": "https://localhost:8080/"
        },
        "id": "GIyTuN3yrpuI",
        "outputId": "1a8d07b4-9dc7-4eb1-a7ac-2a4b52a40f12"
      },
      "outputs": [
        {
          "output_type": "execute_result",
          "data": {
            "text/plain": [
              "(34339, 25)"
            ]
          },
          "metadata": {},
          "execution_count": 45
        }
      ],
      "source": [
        "X_train.shape"
      ]
    },
    {
      "cell_type": "markdown",
      "id": "9c76b2ff",
      "metadata": {
        "id": "9c76b2ff"
      },
      "source": [
        "### Preprocessing Test data"
      ]
    },
    {
      "cell_type": "code",
      "execution_count": null,
      "id": "tQL_RqmAvF5B",
      "metadata": {
        "id": "tQL_RqmAvF5B"
      },
      "outputs": [],
      "source": [
        "# Drop the \"Unnamed: 0\" column\n",
        "test_set = test_set.drop(\"Unnamed: 0\", axis = 1)"
      ]
    },
    {
      "cell_type": "code",
      "execution_count": null,
      "id": "pjdy-5OiB_0B",
      "metadata": {
        "colab": {
          "base_uri": "https://localhost:8080/",
          "height": 317
        },
        "id": "pjdy-5OiB_0B",
        "outputId": "f6b58ab9-ccea-4cf9-841a-9f6eb35bf5d0"
      },
      "outputs": [
        {
          "output_type": "execute_result",
          "data": {
            "text/plain": [
              "          carat     depth     table     space    volume  cut_Fair  cut_Good  \\\n",
              "39754 -0.098933  0.321772  0.251294 -0.033460 -0.106057         0         0   \n",
              "2705  -0.181958  0.251509  2.035821 -0.088157 -0.160220         0         1   \n",
              "14948  0.938883  1.094670 -0.194838  0.927802  0.905914         0         0   \n",
              "18874  2.516363  1.164933  0.697425  2.140235  2.371011         0         1   \n",
              "17647  1.499304  1.445987  1.143557  1.364165  1.432266         0         1   \n",
              "\n",
              "       cut_Ideal  cut_Premium  cut_Very Good  ...  color_I  color_J  \\\n",
              "39754          0            0              1  ...        0        0   \n",
              "2705           0            0              0  ...        0        0   \n",
              "14948          0            0              1  ...        0        0   \n",
              "18874          0            0              0  ...        0        1   \n",
              "17647          0            0              0  ...        0        0   \n",
              "\n",
              "       clarity_I1  clarity_IF  clarity_SI1  clarity_SI2  clarity_VS1  \\\n",
              "39754           0           0            0            1            0   \n",
              "2705            0           1            0            0            0   \n",
              "14948           0           0            0            0            0   \n",
              "18874           0           0            0            1            0   \n",
              "17647           0           0            1            0            0   \n",
              "\n",
              "       clarity_VS2  clarity_VVS1  clarity_VVS2  \n",
              "39754            0             0             0  \n",
              "2705             0             0             0  \n",
              "14948            1             0             0  \n",
              "18874            0             0             0  \n",
              "17647            0             0             0  \n",
              "\n",
              "[5 rows x 25 columns]"
            ],
            "text/html": [
              "\n",
              "  <div id=\"df-1b406fca-dfcd-4f6d-afb2-61d01b1ede28\">\n",
              "    <div class=\"colab-df-container\">\n",
              "      <div>\n",
              "<style scoped>\n",
              "    .dataframe tbody tr th:only-of-type {\n",
              "        vertical-align: middle;\n",
              "    }\n",
              "\n",
              "    .dataframe tbody tr th {\n",
              "        vertical-align: top;\n",
              "    }\n",
              "\n",
              "    .dataframe thead th {\n",
              "        text-align: right;\n",
              "    }\n",
              "</style>\n",
              "<table border=\"1\" class=\"dataframe\">\n",
              "  <thead>\n",
              "    <tr style=\"text-align: right;\">\n",
              "      <th></th>\n",
              "      <th>carat</th>\n",
              "      <th>depth</th>\n",
              "      <th>table</th>\n",
              "      <th>space</th>\n",
              "      <th>volume</th>\n",
              "      <th>cut_Fair</th>\n",
              "      <th>cut_Good</th>\n",
              "      <th>cut_Ideal</th>\n",
              "      <th>cut_Premium</th>\n",
              "      <th>cut_Very Good</th>\n",
              "      <th>...</th>\n",
              "      <th>color_I</th>\n",
              "      <th>color_J</th>\n",
              "      <th>clarity_I1</th>\n",
              "      <th>clarity_IF</th>\n",
              "      <th>clarity_SI1</th>\n",
              "      <th>clarity_SI2</th>\n",
              "      <th>clarity_VS1</th>\n",
              "      <th>clarity_VS2</th>\n",
              "      <th>clarity_VVS1</th>\n",
              "      <th>clarity_VVS2</th>\n",
              "    </tr>\n",
              "  </thead>\n",
              "  <tbody>\n",
              "    <tr>\n",
              "      <th>39754</th>\n",
              "      <td>-0.098933</td>\n",
              "      <td>0.321772</td>\n",
              "      <td>0.251294</td>\n",
              "      <td>-0.033460</td>\n",
              "      <td>-0.106057</td>\n",
              "      <td>0</td>\n",
              "      <td>0</td>\n",
              "      <td>0</td>\n",
              "      <td>0</td>\n",
              "      <td>1</td>\n",
              "      <td>...</td>\n",
              "      <td>0</td>\n",
              "      <td>0</td>\n",
              "      <td>0</td>\n",
              "      <td>0</td>\n",
              "      <td>0</td>\n",
              "      <td>1</td>\n",
              "      <td>0</td>\n",
              "      <td>0</td>\n",
              "      <td>0</td>\n",
              "      <td>0</td>\n",
              "    </tr>\n",
              "    <tr>\n",
              "      <th>2705</th>\n",
              "      <td>-0.181958</td>\n",
              "      <td>0.251509</td>\n",
              "      <td>2.035821</td>\n",
              "      <td>-0.088157</td>\n",
              "      <td>-0.160220</td>\n",
              "      <td>0</td>\n",
              "      <td>1</td>\n",
              "      <td>0</td>\n",
              "      <td>0</td>\n",
              "      <td>0</td>\n",
              "      <td>...</td>\n",
              "      <td>0</td>\n",
              "      <td>0</td>\n",
              "      <td>0</td>\n",
              "      <td>1</td>\n",
              "      <td>0</td>\n",
              "      <td>0</td>\n",
              "      <td>0</td>\n",
              "      <td>0</td>\n",
              "      <td>0</td>\n",
              "      <td>0</td>\n",
              "    </tr>\n",
              "    <tr>\n",
              "      <th>14948</th>\n",
              "      <td>0.938883</td>\n",
              "      <td>1.094670</td>\n",
              "      <td>-0.194838</td>\n",
              "      <td>0.927802</td>\n",
              "      <td>0.905914</td>\n",
              "      <td>0</td>\n",
              "      <td>0</td>\n",
              "      <td>0</td>\n",
              "      <td>0</td>\n",
              "      <td>1</td>\n",
              "      <td>...</td>\n",
              "      <td>0</td>\n",
              "      <td>0</td>\n",
              "      <td>0</td>\n",
              "      <td>0</td>\n",
              "      <td>0</td>\n",
              "      <td>0</td>\n",
              "      <td>0</td>\n",
              "      <td>1</td>\n",
              "      <td>0</td>\n",
              "      <td>0</td>\n",
              "    </tr>\n",
              "    <tr>\n",
              "      <th>18874</th>\n",
              "      <td>2.516363</td>\n",
              "      <td>1.164933</td>\n",
              "      <td>0.697425</td>\n",
              "      <td>2.140235</td>\n",
              "      <td>2.371011</td>\n",
              "      <td>0</td>\n",
              "      <td>1</td>\n",
              "      <td>0</td>\n",
              "      <td>0</td>\n",
              "      <td>0</td>\n",
              "      <td>...</td>\n",
              "      <td>0</td>\n",
              "      <td>1</td>\n",
              "      <td>0</td>\n",
              "      <td>0</td>\n",
              "      <td>0</td>\n",
              "      <td>1</td>\n",
              "      <td>0</td>\n",
              "      <td>0</td>\n",
              "      <td>0</td>\n",
              "      <td>0</td>\n",
              "    </tr>\n",
              "    <tr>\n",
              "      <th>17647</th>\n",
              "      <td>1.499304</td>\n",
              "      <td>1.445987</td>\n",
              "      <td>1.143557</td>\n",
              "      <td>1.364165</td>\n",
              "      <td>1.432266</td>\n",
              "      <td>0</td>\n",
              "      <td>1</td>\n",
              "      <td>0</td>\n",
              "      <td>0</td>\n",
              "      <td>0</td>\n",
              "      <td>...</td>\n",
              "      <td>0</td>\n",
              "      <td>0</td>\n",
              "      <td>0</td>\n",
              "      <td>0</td>\n",
              "      <td>1</td>\n",
              "      <td>0</td>\n",
              "      <td>0</td>\n",
              "      <td>0</td>\n",
              "      <td>0</td>\n",
              "      <td>0</td>\n",
              "    </tr>\n",
              "  </tbody>\n",
              "</table>\n",
              "<p>5 rows × 25 columns</p>\n",
              "</div>\n",
              "      <button class=\"colab-df-convert\" onclick=\"convertToInteractive('df-1b406fca-dfcd-4f6d-afb2-61d01b1ede28')\"\n",
              "              title=\"Convert this dataframe to an interactive table.\"\n",
              "              style=\"display:none;\">\n",
              "        \n",
              "  <svg xmlns=\"http://www.w3.org/2000/svg\" height=\"24px\"viewBox=\"0 0 24 24\"\n",
              "       width=\"24px\">\n",
              "    <path d=\"M0 0h24v24H0V0z\" fill=\"none\"/>\n",
              "    <path d=\"M18.56 5.44l.94 2.06.94-2.06 2.06-.94-2.06-.94-.94-2.06-.94 2.06-2.06.94zm-11 1L8.5 8.5l.94-2.06 2.06-.94-2.06-.94L8.5 2.5l-.94 2.06-2.06.94zm10 10l.94 2.06.94-2.06 2.06-.94-2.06-.94-.94-2.06-.94 2.06-2.06.94z\"/><path d=\"M17.41 7.96l-1.37-1.37c-.4-.4-.92-.59-1.43-.59-.52 0-1.04.2-1.43.59L10.3 9.45l-7.72 7.72c-.78.78-.78 2.05 0 2.83L4 21.41c.39.39.9.59 1.41.59.51 0 1.02-.2 1.41-.59l7.78-7.78 2.81-2.81c.8-.78.8-2.07 0-2.86zM5.41 20L4 18.59l7.72-7.72 1.47 1.35L5.41 20z\"/>\n",
              "  </svg>\n",
              "      </button>\n",
              "      \n",
              "  <style>\n",
              "    .colab-df-container {\n",
              "      display:flex;\n",
              "      flex-wrap:wrap;\n",
              "      gap: 12px;\n",
              "    }\n",
              "\n",
              "    .colab-df-convert {\n",
              "      background-color: #E8F0FE;\n",
              "      border: none;\n",
              "      border-radius: 50%;\n",
              "      cursor: pointer;\n",
              "      display: none;\n",
              "      fill: #1967D2;\n",
              "      height: 32px;\n",
              "      padding: 0 0 0 0;\n",
              "      width: 32px;\n",
              "    }\n",
              "\n",
              "    .colab-df-convert:hover {\n",
              "      background-color: #E2EBFA;\n",
              "      box-shadow: 0px 1px 2px rgba(60, 64, 67, 0.3), 0px 1px 3px 1px rgba(60, 64, 67, 0.15);\n",
              "      fill: #174EA6;\n",
              "    }\n",
              "\n",
              "    [theme=dark] .colab-df-convert {\n",
              "      background-color: #3B4455;\n",
              "      fill: #D2E3FC;\n",
              "    }\n",
              "\n",
              "    [theme=dark] .colab-df-convert:hover {\n",
              "      background-color: #434B5C;\n",
              "      box-shadow: 0px 1px 3px 1px rgba(0, 0, 0, 0.15);\n",
              "      filter: drop-shadow(0px 1px 2px rgba(0, 0, 0, 0.3));\n",
              "      fill: #FFFFFF;\n",
              "    }\n",
              "  </style>\n",
              "\n",
              "      <script>\n",
              "        const buttonEl =\n",
              "          document.querySelector('#df-1b406fca-dfcd-4f6d-afb2-61d01b1ede28 button.colab-df-convert');\n",
              "        buttonEl.style.display =\n",
              "          google.colab.kernel.accessAllowed ? 'block' : 'none';\n",
              "\n",
              "        async function convertToInteractive(key) {\n",
              "          const element = document.querySelector('#df-1b406fca-dfcd-4f6d-afb2-61d01b1ede28');\n",
              "          const dataTable =\n",
              "            await google.colab.kernel.invokeFunction('convertToInteractive',\n",
              "                                                     [key], {});\n",
              "          if (!dataTable) return;\n",
              "\n",
              "          const docLinkHtml = 'Like what you see? Visit the ' +\n",
              "            '<a target=\"_blank\" href=https://colab.research.google.com/notebooks/data_table.ipynb>data table notebook</a>'\n",
              "            + ' to learn more about interactive tables.';\n",
              "          element.innerHTML = '';\n",
              "          dataTable['output_type'] = 'display_data';\n",
              "          await google.colab.output.renderOutput(dataTable, element);\n",
              "          const docLink = document.createElement('div');\n",
              "          docLink.innerHTML = docLinkHtml;\n",
              "          element.appendChild(docLink);\n",
              "        }\n",
              "      </script>\n",
              "    </div>\n",
              "  </div>\n",
              "  "
            ]
          },
          "metadata": {},
          "execution_count": 47
        }
      ],
      "source": [
        "test_set['space'] = test_set['x'] * test_set['y']\n",
        "test_set['volume'] = test_set['x'] * test_set['y'] * test_set['z']\n",
        "test_set.drop(['x','y','z'], axis = 1, inplace = True)\n",
        "\n",
        "one_hot_encoders_test_data =  pd.get_dummies(test_set)\n",
        "cols = one_hot_encoders_test_data.columns\n",
        "test_clean_data = pd.DataFrame(one_hot_encoders_test_data,columns= cols)\n",
        "\n",
        "numericals =  pd.DataFrame(sc_X.transform(test_clean_data[['carat','depth','table','space','volume']]),\n",
        "                           columns=['carat','depth','table','space','volume'],\n",
        "                           index=test_clean_data.index)\n",
        "\n",
        "test_clean_data_standard = test_clean_data.copy(deep=True)\n",
        "test_clean_data_standard[['carat','depth','table','space','volume']] = numericals[['carat','depth','table','space','volume']]\n",
        "X_test = test_clean_data_standard.drop([\"price\"],axis=1)\n",
        "X_test.head()"
      ]
    },
    {
      "cell_type": "code",
      "execution_count": null,
      "id": "0NfVgxllstFh",
      "metadata": {
        "colab": {
          "base_uri": "https://localhost:8080/"
        },
        "id": "0NfVgxllstFh",
        "outputId": "04586220-9122-4dff-b3d1-e2f68aeee7c6"
      },
      "outputs": [
        {
          "output_type": "execute_result",
          "data": {
            "text/plain": [
              "(8608, 25)"
            ]
          },
          "metadata": {},
          "execution_count": 48
        }
      ],
      "source": [
        "X_test.shape"
      ]
    },
    {
      "cell_type": "code",
      "execution_count": null,
      "id": "Cs_S5DIaopT7",
      "metadata": {
        "id": "Cs_S5DIaopT7"
      },
      "outputs": [],
      "source": [
        "Y_test = test_set.price"
      ]
    },
    {
      "cell_type": "markdown",
      "id": "8980e1cd",
      "metadata": {
        "id": "8980e1cd"
      },
      "source": [
        "### Select and Train Model"
      ]
    },
    {
      "cell_type": "code",
      "execution_count": null,
      "id": "qWIOKEIFP4-7",
      "metadata": {
        "id": "qWIOKEIFP4-7"
      },
      "outputs": [],
      "source": [
        "#CV = []\n",
        "#R2_train = []\n",
        "rmse_ = []\n",
        "def evaluation_train(model):\n",
        "\n",
        "  model.fit(X_train,Y_train)\n",
        "  Y_pred = model.predict(X_train)\n",
        "  # MAE\n",
        "  mae =mean_absolute_error(Y_train, Y_pred)\n",
        "    \n",
        "  # MSE\n",
        "  lin_mse = mean_squared_error(Y_train, Y_pred)\n",
        "  lin_rmse = np.sqrt(lin_mse)\n",
        "\n",
        "\n",
        "  scores = cross_val_score(model, X_train, Y_train, scoring =\"neg_mean_squared_error\",cv = 10)\n",
        "  rmse_scores = np.sqrt(-scores)\n",
        "\n",
        "  return mae,lin_rmse,rmse_scores,rmse_scores.mean(),rmse_scores.std()"
      ]
    },
    {
      "cell_type": "code",
      "execution_count": null,
      "id": "-bTJAzVspB1s",
      "metadata": {
        "id": "-bTJAzVspB1s"
      },
      "outputs": [],
      "source": [
        "def meansquarederror(y_pred, y_test):\n",
        "    lin_mse = mean_squared_error(y_pred, y_test)\n",
        "    lin_rmse = np.sqrt(lin_mse)\n",
        "    return lin_rmse"
      ]
    },
    {
      "cell_type": "markdown",
      "id": "02f407d3",
      "metadata": {
        "id": "02f407d3"
      },
      "source": [
        "#### Linear Regression Model"
      ]
    },
    {
      "cell_type": "code",
      "execution_count": null,
      "id": "GWkPN27qtUsj",
      "metadata": {
        "colab": {
          "base_uri": "https://localhost:8080/"
        },
        "id": "GWkPN27qtUsj",
        "outputId": "ff809276-8a82-4fd7-cd44-1bce0759f9a6"
      },
      "outputs": [
        {
          "data": {
            "text/plain": [
              "(34339, 25)"
            ]
          },
          "execution_count": 104,
          "metadata": {},
          "output_type": "execute_result"
        }
      ],
      "source": [
        "X_train.shape"
      ]
    },
    {
      "cell_type": "code",
      "execution_count": null,
      "id": "f68d1bc6",
      "metadata": {
        "colab": {
          "base_uri": "https://localhost:8080/"
        },
        "id": "f68d1bc6",
        "outputId": "25dee83b-5b36-43bf-ec57-4d80d3580d6b"
      },
      "outputs": [
        {
          "name": "stdout",
          "output_type": "stream",
          "text": [
            "MAE:  1147.0330750400021\n",
            "MSE:  753.4677011541347\n",
            "Scores:  [1217.45044738 1184.87782493 1186.72155316 1161.89275919 1083.01134959\n",
            " 1102.68568084 1155.97347577 1138.10568397 1145.82991439 1152.09524237]\n",
            "Mean:  1152.8643931598167\n",
            "Standard Deviation:  37.548567392007236\n"
          ]
        }
      ],
      "source": [
        "model_1 = LinearRegression()\n",
        "model_1.fit(X_train,Y_train)\n",
        "mse,lin_rmse,rmse_scores,rmse_scores_mean,rmse_scores_std =evaluation_train(model_1)\n",
        "print(\"MAE: \",lin_rmse)\n",
        "print(\"MSE: \",mse)\n",
        "print(\"Scores: \", rmse_scores)\n",
        "print(\"Mean: \", rmse_scores_mean)\n",
        "print(\"Standard Deviation: \", rmse_scores_std)"
      ]
    },
    {
      "cell_type": "code",
      "execution_count": null,
      "id": "MImrha6cpQmv",
      "metadata": {
        "colab": {
          "base_uri": "https://localhost:8080/"
        },
        "id": "MImrha6cpQmv",
        "outputId": "ccffc16b-1ba7-48df-89d2-984226ba80ea"
      },
      "outputs": [
        {
          "data": {
            "text/plain": [
              "1106.6369654913747"
            ]
          },
          "execution_count": 182,
          "metadata": {},
          "output_type": "execute_result"
        }
      ],
      "source": [
        "y_pred=model_1.predict(X_test)\n",
        "rmse_.append(meansquarederror(y_pred, Y_test))\n",
        "meansquarederror(y_pred, Y_test)"
      ]
    },
    {
      "cell_type": "markdown",
      "id": "92ff18e6",
      "metadata": {
        "id": "92ff18e6"
      },
      "source": [
        "#### Decision Tree Regressor Model"
      ]
    },
    {
      "cell_type": "code",
      "execution_count": null,
      "id": "860570c9",
      "metadata": {
        "colab": {
          "base_uri": "https://localhost:8080/"
        },
        "id": "860570c9",
        "outputId": "1df454f7-5a40-4821-a1a0-1c60df17bf01"
      },
      "outputs": [
        {
          "name": "stdout",
          "output_type": "stream",
          "text": [
            "MAE:  33.770720019288305\n",
            "MSE:  13.632400477591077\n",
            "Scores:  [735.49626158 804.33119896 723.87930332 799.67854325 736.45694153\n",
            " 746.00142987 791.36150371 786.56303118 742.91794986 741.08531829]\n",
            "Mean:  760.7771481551512\n",
            "Standard Deviation:  29.202184947510492\n"
          ]
        }
      ],
      "source": [
        "model_2 = DecisionTreeRegressor()\n",
        "model_2.fit(X_train,Y_train)\n",
        "\n",
        "mse,lin_rmse,rmse_scores,rmse_scores_mean,rmse_scores_std =evaluation_train(model_2)\n",
        "print(\"MAE: \",lin_rmse)\n",
        "print(\"MSE: \",mse)\n",
        "print(\"Scores: \", rmse_scores)\n",
        "print(\"Mean: \", rmse_scores_mean)\n",
        "print(\"Standard Deviation: \", rmse_scores_std)"
      ]
    },
    {
      "cell_type": "code",
      "execution_count": null,
      "id": "GRVuIiT6vkmR",
      "metadata": {
        "colab": {
          "base_uri": "https://localhost:8080/"
        },
        "id": "GRVuIiT6vkmR",
        "outputId": "4248546c-a55d-4e83-820c-9b16d374449e"
      },
      "outputs": [
        {
          "data": {
            "text/plain": [
              "751.6097275577966"
            ]
          },
          "execution_count": 185,
          "metadata": {},
          "output_type": "execute_result"
        }
      ],
      "source": [
        "y_pred=model_2.predict(X_test)\n",
        "rmse_.append(meansquarederror(y_pred, Y_test))\n",
        "meansquarederror(y_pred, Y_test)"
      ]
    },
    {
      "cell_type": "markdown",
      "id": "ee80c647",
      "metadata": {
        "id": "ee80c647"
      },
      "source": [
        "####  Random Forest Regressor Model"
      ]
    },
    {
      "cell_type": "code",
      "execution_count": null,
      "id": "bef38143",
      "metadata": {
        "colab": {
          "base_uri": "https://localhost:8080/"
        },
        "id": "bef38143",
        "outputId": "05f24785-eed4-4c5a-b8b0-4b72c5132639"
      },
      "outputs": [
        {
          "name": "stdout",
          "output_type": "stream",
          "text": [
            "MAE:  214.89758181127985\n",
            "MSE:  110.69322913277837\n",
            "Scores:  [549.25152948 557.14423773 543.49126676 644.93925727 551.28631079\n",
            " 580.61517503 617.80603757 569.21364097 545.09350789 613.58951678]\n",
            "Mean:  577.2430480269874\n",
            "Standard Deviation:  34.14536050343759\n"
          ]
        }
      ],
      "source": [
        "model_3 = RandomForestRegressor()\n",
        "model_3.fit(X_train,Y_train)\n",
        "\n",
        "mse,lin_rmse,rmse_scores,rmse_scores_mean,rmse_scores_std =evaluation_train(model_3)\n",
        "print(\"MAE: \",lin_rmse)\n",
        "print(\"MSE: \",mse)\n",
        "print(\"Scores: \", rmse_scores)\n",
        "print(\"Mean: \", rmse_scores_mean)\n",
        "print(\"Standard Deviation: \", rmse_scores_std)"
      ]
    },
    {
      "cell_type": "code",
      "execution_count": null,
      "id": "8ZCOUsVnvsUL",
      "metadata": {
        "colab": {
          "base_uri": "https://localhost:8080/"
        },
        "id": "8ZCOUsVnvsUL",
        "outputId": "62f11d24-2527-44e6-d934-d59222cf8c56"
      },
      "outputs": [
        {
          "data": {
            "text/plain": [
              "558.729808143182"
            ]
          },
          "execution_count": 187,
          "metadata": {},
          "output_type": "execute_result"
        }
      ],
      "source": [
        "y_pred=model_3.predict(X_test)\n",
        "rmse_.append(meansquarederror(y_pred, Y_test))\n",
        "meansquarederror(y_pred, Y_test)"
      ]
    },
    {
      "cell_type": "markdown",
      "id": "EZqlx7lBDz26",
      "metadata": {
        "id": "EZqlx7lBDz26"
      },
      "source": [
        "####Support Vector Machines"
      ]
    },
    {
      "cell_type": "code",
      "execution_count": null,
      "id": "CXgYugE0D4Dq",
      "metadata": {
        "colab": {
          "base_uri": "https://localhost:8080/"
        },
        "id": "CXgYugE0D4Dq",
        "outputId": "e2917bc2-740b-4b5b-c7b1-905c5052f1cf"
      },
      "outputs": [
        {
          "name": "stdout",
          "output_type": "stream",
          "text": [
            "MAE:  3001.919450379363\n",
            "MSE:  1459.123123005432\n",
            "Scores:  [3029.5137252  3016.31026125 3061.03303837 3001.33762907 3060.56143809\n",
            " 3081.76104241 3142.96834243 3262.1510635  2973.96386667 3023.27211765]\n",
            "Mean:  3065.287252464403\n",
            "Standard Deviation:  79.35666755051207\n"
          ]
        }
      ],
      "source": [
        "rbf = SVR(kernel=\"rbf\")\n",
        "rbf.fit(X_train,Y_train)\n",
        "\n",
        "mse,lin_rmse,rmse_scores,rmse_scores_mean,rmse_scores_std =evaluation_train(rbf)\n",
        "print(\"MAE: \",lin_rmse)\n",
        "print(\"MSE: \",mse)\n",
        "print(\"Scores: \", rmse_scores)\n",
        "print(\"Mean: \", rmse_scores_mean)\n",
        "print(\"Standard Deviation: \", rmse_scores_std)"
      ]
    },
    {
      "cell_type": "code",
      "execution_count": null,
      "id": "35EP4Za4xAy_",
      "metadata": {
        "colab": {
          "base_uri": "https://localhost:8080/"
        },
        "id": "35EP4Za4xAy_",
        "outputId": "d24962a2-01c5-4303-fb67-f0cf700fe250"
      },
      "outputs": [
        {
          "data": {
            "text/plain": [
              "2948.7691461912955"
            ]
          },
          "execution_count": 191,
          "metadata": {},
          "output_type": "execute_result"
        }
      ],
      "source": [
        "y_pred=rbf.predict(X_test)\n",
        "rmse_.append(meansquarederror(y_pred, Y_test))\n",
        "meansquarederror(y_pred, Y_test)"
      ]
    },
    {
      "cell_type": "code",
      "execution_count": null,
      "id": "ZiurLzy3EBhz",
      "metadata": {
        "colab": {
          "base_uri": "https://localhost:8080/"
        },
        "id": "ZiurLzy3EBhz",
        "outputId": "21a99bbf-958a-474d-f3e1-85513565a26d"
      },
      "outputs": [
        {
          "name": "stdout",
          "output_type": "stream",
          "text": [
            "MAE:  1516.9544671364029\n",
            "MSE:  794.5257301255922\n",
            "Scores:  [1482.29246134 1954.33756052 1498.44261958 1456.46509926 1423.65242184\n",
            " 1453.77870607 1519.07937086 1517.48156016 1437.9492913  1507.79744756]\n",
            "Mean:  1525.1276538499087\n",
            "Standard Deviation:  146.5830746170708\n"
          ]
        }
      ],
      "source": [
        "linear = SVR(kernel=\"linear\")\n",
        "linear.fit(X_train,Y_train)\n",
        "\n",
        "mse,lin_rmse,rmse_scores,rmse_scores_mean,rmse_scores_std =evaluation_train(linear)\n",
        "print(\"MAE: \",lin_rmse)\n",
        "print(\"MSE: \",mse)\n",
        "print(\"Scores: \", rmse_scores)\n",
        "print(\"Mean: \", rmse_scores_mean)\n",
        "print(\"Standard Deviation: \", rmse_scores_std)"
      ]
    },
    {
      "cell_type": "code",
      "execution_count": null,
      "id": "MHhWq1BNzPhZ",
      "metadata": {
        "colab": {
          "base_uri": "https://localhost:8080/"
        },
        "id": "MHhWq1BNzPhZ",
        "outputId": "ca8dc42b-2344-453a-9b76-2a10fdb2e840"
      },
      "outputs": [
        {
          "data": {
            "text/plain": [
              "1406.842293278012"
            ]
          },
          "execution_count": 194,
          "metadata": {},
          "output_type": "execute_result"
        }
      ],
      "source": [
        "y_pred=linear.predict(X_test)\n",
        "rmse_.append(meansquarederror(y_pred, Y_test))\n",
        "meansquarederror(y_pred, Y_test)"
      ]
    },
    {
      "cell_type": "markdown",
      "id": "7b95f146",
      "metadata": {
        "id": "7b95f146"
      },
      "source": [
        "#### Random Forest Regressor Hyperparameter tuning"
      ]
    },
    {
      "cell_type": "code",
      "execution_count": null,
      "id": "6a7fc2f6",
      "metadata": {
        "colab": {
          "base_uri": "https://localhost:8080/"
        },
        "id": "6a7fc2f6",
        "outputId": "458e0131-aadd-4511-ba90-40a08200b3e6"
      },
      "outputs": [
        {
          "name": "stdout",
          "output_type": "stream",
          "text": [
            "MAE:  219.4988680214126\n",
            "MSE:  114.36603073114756\n",
            "Scores:  [596.242016   595.72601002 579.48890287 642.54177198 561.78969967\n",
            " 580.58029534 650.6616325  585.66118163 549.77437602 601.39881352]\n",
            "Mean:  594.3864699550885\n",
            "Standard Deviation:  30.135866325460086\n"
          ]
        }
      ],
      "source": [
        "best_model = RandomForestRegressor(n_estimators=400,\n",
        "                                  max_features='sqrt',\n",
        "                                  )\n",
        "\n",
        "mse,lin_rmse,rmse_scores,rmse_scores_mean,rmse_scores_std =evaluation_train(best_model)\n",
        "print(\"MAE: \",lin_rmse)\n",
        "print(\"MSE: \",mse)\n",
        "print(\"Scores: \", rmse_scores)\n",
        "print(\"Mean: \", rmse_scores_mean)\n",
        "print(\"Standard Deviation: \", rmse_scores_std)"
      ]
    },
    {
      "cell_type": "code",
      "execution_count": null,
      "id": "8RzK_xG27JP2",
      "metadata": {
        "colab": {
          "base_uri": "https://localhost:8080/"
        },
        "id": "8RzK_xG27JP2",
        "outputId": "247f8b54-229a-4f19-aaa7-f45fd045c0bb"
      },
      "outputs": [
        {
          "data": {
            "text/plain": [
              "566.5596371948113"
            ]
          },
          "execution_count": 58,
          "metadata": {},
          "output_type": "execute_result"
        }
      ],
      "source": [
        "y_pred=best_model.predict(X_test)\n",
        "rmse_.append(meansquarederror(y_pred, Y_test))\n",
        "meansquarederror(y_pred, Y_test)"
      ]
    },
    {
      "cell_type": "code",
      "execution_count": null,
      "id": "c8DYJzNJAZ_1",
      "metadata": {
        "colab": {
          "base_uri": "https://localhost:8080/"
        },
        "id": "c8DYJzNJAZ_1",
        "outputId": "8f6d7299-abeb-40f6-833b-6929f6c1a361"
      },
      "outputs": [
        {
          "output_type": "stream",
          "name": "stdout",
          "text": [
            "MAE:  212.13655213176216\n",
            "MSE:  109.79573090382218\n",
            "Scores:  [544.29831318 561.28969273 538.72166242 641.41519404 548.8339461\n",
            " 581.48800227 620.06235429 562.9636961  539.35065976 614.41606234]\n",
            "Mean:  575.2839583212955\n",
            "Standard Deviation:  35.47337299756265\n"
          ]
        }
      ],
      "source": [
        "model_7 = RandomForestRegressor(criterion= 'squared_error',n_estimators= 500)\n",
        "model_7.fit(X_train,Y_train)\n",
        "\n",
        "mse,r_rmse,rmse_scores,rmse_scores_mean,rmse_scores_std =evaluation_train(model_7)\n",
        "print(\"MAE: \",r_rmse)\n",
        "print(\"MSE: \",mse)\n",
        "print(\"Scores: \", rmse_scores)\n",
        "print(\"Mean: \", rmse_scores_mean)\n",
        "print(\"Standard Deviation: \", rmse_scores_std)"
      ]
    },
    {
      "cell_type": "code",
      "execution_count": null,
      "id": "EOALzel8AvLe",
      "metadata": {
        "colab": {
          "base_uri": "https://localhost:8080/"
        },
        "id": "EOALzel8AvLe",
        "outputId": "aa76de5d-fae0-417b-ad04-48434e899f6f"
      },
      "outputs": [
        {
          "output_type": "execute_result",
          "data": {
            "text/plain": [
              "558.523607153869"
            ]
          },
          "metadata": {},
          "execution_count": 53
        }
      ],
      "source": [
        "y_pred=model_7.predict(X_test)\n",
        "rmse_.append(meansquarederror(y_pred, Y_test))\n",
        "meansquarederror(y_pred, Y_test)"
      ]
    },
    {
      "cell_type": "markdown",
      "id": "837051ea",
      "metadata": {
        "id": "837051ea"
      },
      "source": [
        "#### Grid Search"
      ]
    },
    {
      "cell_type": "code",
      "execution_count": null,
      "id": "d849C4Vy6tL3",
      "metadata": {
        "id": "d849C4Vy6tL3"
      },
      "outputs": [],
      "source": [
        "parameters = {\n",
        "   'nthread':[x for x in range(1,6)], \n",
        "   'objective':['reg:squarederror'],\n",
        "   'learning_rate': [.01,.03, 0.05,0.02], \n",
        "    'max_depth': [x for x in range(4,10)],\n",
        "     'n_estimators': [500,700,200,400,800]\n",
        "}"
      ]
    },
    {
      "cell_type": "code",
      "execution_count": null,
      "id": "fbJbR2A264fS",
      "metadata": {
        "id": "fbJbR2A264fS"
      },
      "outputs": [],
      "source": [
        "RegModel=XGBRegressor()"
      ]
    },
    {
      "cell_type": "code",
      "execution_count": null,
      "id": "0vWznN7I66ov",
      "metadata": {
        "id": "0vWznN7I66ov"
      },
      "outputs": [],
      "source": [
        "grid_search = GridSearchCV(RegModel, parameters, cv=5,scoring='neg_mean_squared_error',return_train_score=True)"
      ]
    },
    {
      "cell_type": "code",
      "execution_count": null,
      "id": "vZ9PqbrI6-Mk",
      "metadata": {
        "id": "vZ9PqbrI6-Mk"
      },
      "outputs": [],
      "source": [
        "grid_search.fit(X_train,Y_train)\n",
        "y_pred=grid_search.predict(X_test)\n",
        "meansquarederror(y_pred, y_test)"
      ]
    },
    {
      "cell_type": "markdown",
      "id": "948cd63d",
      "metadata": {
        "id": "948cd63d"
      },
      "source": [
        "#### AdaBoost Regression"
      ]
    },
    {
      "cell_type": "code",
      "execution_count": null,
      "id": "wNyty0jiB-ig",
      "metadata": {
        "colab": {
          "base_uri": "https://localhost:8080/"
        },
        "id": "wNyty0jiB-ig",
        "outputId": "06f350bb-a4b1-402d-b58c-c604a8576453"
      },
      "outputs": [
        {
          "data": {
            "text/plain": [
              "AdaBoostRegressor(n_estimators=100)"
            ]
          },
          "execution_count": 92,
          "metadata": {},
          "output_type": "execute_result"
        }
      ],
      "source": [
        "model_6 = AdaBoostRegressor(n_estimators = 100)\n",
        "model_6.fit(X_train,Y_train)\n",
        "\n",
        "mse,lin_rmse,rmse_scores,rmse_scores_mean,rmse_scores_std =evaluation_train(model_6)\n",
        "print(\"MAE: \",lin_rmse)\n",
        "print(\"MSE: \",mse)\n",
        "print(\"Scores: \", rmse_scores)\n",
        "print(\"Mean: \", rmse_scores_mean)\n",
        "print(\"Standard Deviation: \", rmse_scores_std)"
      ]
    },
    {
      "cell_type": "code",
      "execution_count": null,
      "id": "HCyFsY06CkOx",
      "metadata": {
        "colab": {
          "base_uri": "https://localhost:8080/"
        },
        "id": "HCyFsY06CkOx",
        "outputId": "f511be08-a5b4-403b-d663-7c956d2ef9cf"
      },
      "outputs": [
        {
          "data": {
            "text/plain": [
              "1454.861090670476"
            ]
          },
          "execution_count": 99,
          "metadata": {},
          "output_type": "execute_result"
        }
      ],
      "source": [
        "y_pred=model_6.predict(X_test)\n",
        "rmse_.append(meansquarederror(y_pred, Y_test))\n",
        "meansquarederror(y_pred, Y_test)"
      ]
    },
    {
      "cell_type": "markdown",
      "id": "6a80b3a3",
      "metadata": {
        "id": "6a80b3a3"
      },
      "source": [
        "#### GradientBoosting Regression"
      ]
    },
    {
      "cell_type": "code",
      "execution_count": null,
      "id": "3wZ0QW0XCf-t",
      "metadata": {
        "colab": {
          "base_uri": "https://localhost:8080/"
        },
        "id": "3wZ0QW0XCf-t",
        "outputId": "bb6ea8d0-5ca9-40ad-fbe7-5587f2dbe4a5"
      },
      "outputs": [
        {
          "name": "stdout",
          "output_type": "stream",
          "text": [
            "MAE:  1239.1773276838967\n",
            "MSE:  713.1419789102674\n",
            "Scores:  [1268.13745953 1231.29379251 1261.15722231 1223.46972498 1199.00433068\n",
            " 1234.10095851 1311.84004729 1274.7517053  1210.57674984 1277.99848973]\n",
            "Mean:  1249.2330480677379\n",
            "Standard Deviation:  33.36110136103438\n"
          ]
        }
      ],
      "source": [
        "model_7 = GradientBoostingRegressor(n_estimators=100, learning_rate=0.1,max_depth=1)\n",
        "model_7.fit(X_train,Y_train)\n",
        "\n",
        "mse,lin_rmse,rmse_scores,rmse_scores_mean,rmse_scores_std =evaluation_train(model_7)\n",
        "print(\"MAE: \",lin_rmse)\n",
        "print(\"MSE: \",mse)\n",
        "print(\"Scores: \", rmse_scores)\n",
        "print(\"Mean: \", rmse_scores_mean)\n",
        "print(\"Standard Deviation: \", rmse_scores_std)"
      ]
    },
    {
      "cell_type": "code",
      "execution_count": null,
      "id": "5dzjBP2wCyE6",
      "metadata": {
        "colab": {
          "base_uri": "https://localhost:8080/"
        },
        "id": "5dzjBP2wCyE6",
        "outputId": "7db52bf2-8408-4f26-caf5-e455f7b2de69"
      },
      "outputs": [
        {
          "data": {
            "text/plain": [
              "1192.5264813891988"
            ]
          },
          "execution_count": 59,
          "metadata": {},
          "output_type": "execute_result"
        }
      ],
      "source": [
        "y_pred=model_7.predict(X_test)\n",
        "rmse_.append(meansquarederror(y_pred, Y_test))\n",
        "meansquarederror(y_pred, Y_test)"
      ]
    },
    {
      "cell_type": "markdown",
      "id": "xl-u56eLCXtA",
      "metadata": {
        "id": "xl-u56eLCXtA"
      },
      "source": [
        "####XGBRegressor"
      ]
    },
    {
      "cell_type": "code",
      "execution_count": null,
      "id": "ddd37759",
      "metadata": {
        "colab": {
          "base_uri": "https://localhost:8080/"
        },
        "id": "ddd37759",
        "outputId": "1df77eb1-74c5-40f9-cc3d-bc068217123a"
      },
      "outputs": [
        {
          "name": "stdout",
          "output_type": "stream",
          "text": [
            "[18:37:05] WARNING: /workspace/src/objective/regression_obj.cu:152: reg:linear is now deprecated in favor of reg:squarederror.\n",
            "[18:37:08] WARNING: /workspace/src/objective/regression_obj.cu:152: reg:linear is now deprecated in favor of reg:squarederror.\n",
            "[18:37:11] WARNING: /workspace/src/objective/regression_obj.cu:152: reg:linear is now deprecated in favor of reg:squarederror.\n",
            "[18:37:13] WARNING: /workspace/src/objective/regression_obj.cu:152: reg:linear is now deprecated in favor of reg:squarederror.\n",
            "[18:37:16] WARNING: /workspace/src/objective/regression_obj.cu:152: reg:linear is now deprecated in favor of reg:squarederror.\n",
            "[18:37:18] WARNING: /workspace/src/objective/regression_obj.cu:152: reg:linear is now deprecated in favor of reg:squarederror.\n",
            "[18:37:21] WARNING: /workspace/src/objective/regression_obj.cu:152: reg:linear is now deprecated in favor of reg:squarederror.\n",
            "[18:37:23] WARNING: /workspace/src/objective/regression_obj.cu:152: reg:linear is now deprecated in favor of reg:squarederror.\n",
            "[18:37:26] WARNING: /workspace/src/objective/regression_obj.cu:152: reg:linear is now deprecated in favor of reg:squarederror.\n",
            "[18:37:28] WARNING: /workspace/src/objective/regression_obj.cu:152: reg:linear is now deprecated in favor of reg:squarederror.\n",
            "[18:37:31] WARNING: /workspace/src/objective/regression_obj.cu:152: reg:linear is now deprecated in favor of reg:squarederror.\n",
            "[18:37:33] WARNING: /workspace/src/objective/regression_obj.cu:152: reg:linear is now deprecated in favor of reg:squarederror.\n",
            "MAE:  720.3028872168682\n",
            "MSE:  397.3287638020177\n",
            "Scores:  [734.67532381 728.28682104 750.67652811 761.14166907 725.14293126\n",
            " 746.5123575  810.03397283 753.90742698 703.10605392 785.25866015]\n",
            "Mean:  749.8741744665141\n",
            "Standard Deviation:  29.19305172553335\n"
          ]
        }
      ],
      "source": [
        "model_8 = XGBRegressor()\n",
        "model_8.fit(X_train,Y_train)\n",
        "\n",
        "mse,lin_rmse,rmse_scores,rmse_scores_mean,rmse_scores_std =evaluation_train(model_8)\n",
        "print(\"MAE: \",lin_rmse)\n",
        "print(\"MSE: \",mse)\n",
        "print(\"Scores: \", rmse_scores)\n",
        "print(\"Mean: \", rmse_scores_mean)\n",
        "print(\"Standard Deviation: \", rmse_scores_std)"
      ]
    },
    {
      "cell_type": "code",
      "execution_count": null,
      "id": "gffoAG30C-4D",
      "metadata": {
        "colab": {
          "base_uri": "https://localhost:8080/"
        },
        "id": "gffoAG30C-4D",
        "outputId": "027c1ee6-4669-43d0-d6f6-39207619bc35"
      },
      "outputs": [
        {
          "data": {
            "text/plain": [
              "718.7209175096459"
            ]
          },
          "execution_count": 60,
          "metadata": {},
          "output_type": "execute_result"
        }
      ],
      "source": [
        "y_pred=model_8.predict(X_test)\n",
        "rmse_.append(meansquarederror(y_pred, Y_test))\n",
        "meansquarederror(y_pred, Y_test)"
      ]
    },
    {
      "cell_type": "code",
      "execution_count": null,
      "id": "rl6t_VYNDL7D",
      "metadata": {
        "colab": {
          "base_uri": "https://localhost:8080/"
        },
        "id": "rl6t_VYNDL7D",
        "outputId": "452404b4-fbbb-4f2b-96bc-6e858d039bc9"
      },
      "outputs": [
        {
          "name": "stdout",
          "output_type": "stream",
          "text": [
            "MAE:  425.40877018832003\n",
            "MSE:  240.09070294082275\n",
            "Scores:  [542.7593065  547.36886198 557.11247013 588.68715354 550.4211954\n",
            " 561.3703569  597.80577439 559.42646774 525.420387   583.32777259]\n",
            "Mean:  561.3699746174459\n",
            "Standard Deviation:  21.289624147858554\n"
          ]
        }
      ],
      "source": [
        "model_9=XGBRegressor(colsample_bytree= 0.7,learning_rate= 0.03,max_depth= 7,min_child_weight= 5,n_estimators= 500,nthread= 1,objective= 'reg:squarederror',subsample= 0.7)\n",
        "model_9.fit(X_train,Y_train)\n",
        "\n",
        "mse,lin_rmse,rmse_scores,rmse_scores_mean,rmse_scores_std =evaluation_train(model_9)\n",
        "print(\"MAE: \",lin_rmse)\n",
        "print(\"MSE: \",mse)\n",
        "print(\"Scores: \", rmse_scores)\n",
        "print(\"Mean: \", rmse_scores_mean)\n",
        "print(\"Standard Deviation: \", rmse_scores_std)"
      ]
    },
    {
      "cell_type": "code",
      "execution_count": null,
      "id": "xmtjp5JJ7U_9",
      "metadata": {
        "colab": {
          "base_uri": "https://localhost:8080/"
        },
        "id": "xmtjp5JJ7U_9",
        "outputId": "99fa3de9-e3d1-4229-9d5e-901b280decb8"
      },
      "outputs": [
        {
          "data": {
            "text/plain": [
              "539.9607094687161"
            ]
          },
          "execution_count": 62,
          "metadata": {},
          "output_type": "execute_result"
        }
      ],
      "source": [
        "y_pred=model_9.predict(X_test)\n",
        "rmse_.append(meansquarederror(y_pred, Y_test))\n",
        "meansquarederror(y_pred, Y_test)"
      ]
    },
    {
      "cell_type": "code",
      "execution_count": null,
      "id": "9dIblSs3KtXh",
      "metadata": {
        "colab": {
          "base_uri": "https://localhost:8080/"
        },
        "id": "9dIblSs3KtXh",
        "outputId": "7312121e-c71e-4012-c52b-a0340753614a"
      },
      "outputs": [
        {
          "name": "stdout",
          "output_type": "stream",
          "text": [
            "MAE:  536.9775051358891\n",
            "MSE:  287.44886893762833\n",
            "Scores:  [574.98208923 593.07570732 594.89954831 632.6835958  581.2053192\n",
            " 598.45022113 642.05378274 597.75001116 548.78987402 627.81940052]\n",
            "Mean:  599.1709549409579\n",
            "Standard Deviation:  26.994113347439438\n"
          ]
        }
      ],
      "source": [
        "model_10=XGBRegressor(colsample_bytree= 0.7,learning_rate= 0.01,max_depth= 7,min_child_weight= 5,n_estimators= 500,nthread= 1,objective= 'reg:squarederror',subsample= 0.7)\n",
        "model_10.fit(X_train,Y_train)\n",
        "\n",
        "mse,lin_rmse,rmse_scores,rmse_scores_mean,rmse_scores_std =evaluation_train(model_10)\n",
        "print(\"MAE: \",lin_rmse)\n",
        "print(\"MSE: \",mse)\n",
        "print(\"Scores: \", rmse_scores)\n",
        "print(\"Mean: \", rmse_scores_mean)\n",
        "print(\"Standard Deviation: \", rmse_scores_std)"
      ]
    },
    {
      "cell_type": "code",
      "execution_count": null,
      "id": "Xt80QDn2LSXi",
      "metadata": {
        "colab": {
          "base_uri": "https://localhost:8080/"
        },
        "id": "Xt80QDn2LSXi",
        "outputId": "b61a386a-8d73-4442-9e17-ec6e80ac4b35"
      },
      "outputs": [
        {
          "data": {
            "text/plain": [
              "582.1501146171403"
            ]
          },
          "execution_count": 64,
          "metadata": {},
          "output_type": "execute_result"
        }
      ],
      "source": [
        "y_pred=model_10.predict(X_test)\n",
        "rmse_.append(meansquarederror(y_pred, Y_test))\n",
        "meansquarederror(y_pred, Y_test)"
      ]
    },
    {
      "cell_type": "code",
      "execution_count": null,
      "id": "lplb1grELzjI",
      "metadata": {
        "colab": {
          "base_uri": "https://localhost:8080/"
        },
        "id": "lplb1grELzjI",
        "outputId": "ac92a05f-fbb9-4813-fe24-98325cc6734d"
      },
      "outputs": [
        {
          "name": "stdout",
          "output_type": "stream",
          "text": [
            "MAE:  536.9775051358891\n",
            "MSE:  287.44886893762833\n",
            "Scores:  [574.98208923 593.07570732 594.89954831 632.6835958  581.2053192\n",
            " 598.45022113 642.05378274 597.75001116 548.78987402 627.81940052]\n",
            "Mean:  599.1709549409579\n",
            "Standard Deviation:  26.994113347439438\n"
          ]
        }
      ],
      "source": [
        "model_11=XGBRegressor(learning_rate=0.05, max_depth=7, n_estimators=500, nthread=1,\n",
        "             objective='reg:squarederror')\n",
        "model_11.fit(X_train,Y_train)\n",
        "\n",
        "mse,lin_rmse,rmse_scores,rmse_scores_mean,rmse_scores_std =evaluation_train(model_11)\n",
        "print(\"MAE: \",lin_rmse)\n",
        "print(\"MSE: \",mse)\n",
        "print(\"Scores: \", rmse_scores)\n",
        "print(\"Mean: \", rmse_scores_mean)\n",
        "print(\"Standard Deviation: \", rmse_scores_std)"
      ]
    },
    {
      "cell_type": "code",
      "execution_count": null,
      "id": "V-3VgW5CMx4Z",
      "metadata": {
        "colab": {
          "base_uri": "https://localhost:8080/"
        },
        "id": "V-3VgW5CMx4Z",
        "outputId": "3d92f024-4786-47e4-b918-b6a5197bb52a"
      },
      "outputs": [
        {
          "data": {
            "text/plain": [
              "529.2585527963599"
            ]
          },
          "execution_count": 66,
          "metadata": {},
          "output_type": "execute_result"
        }
      ],
      "source": [
        "y_pred=model_11.predict(X_test)\n",
        "rmse_.append(meansquarederror(y_pred, Y_test))\n",
        "meansquarederror(y_pred, Y_test)"
      ]
    },
    {
      "cell_type": "code",
      "execution_count": null,
      "id": "JEvJtFM6QfWL",
      "metadata": {
        "id": "JEvJtFM6QfWL"
      },
      "outputs": [],
      "source": []
    }
  ],
  "metadata": {
    "colab": {
      "collapsed_sections": [],
      "provenance": []
    },
    "kernelspec": {
      "display_name": "Python 3 (ipykernel)",
      "language": "python",
      "name": "python3"
    },
    "language_info": {
      "codemirror_mode": {
        "name": "ipython",
        "version": 3
      },
      "file_extension": ".py",
      "mimetype": "text/x-python",
      "name": "python",
      "nbconvert_exporter": "python",
      "pygments_lexer": "ipython3",
      "version": "3.7.13"
    }
  },
  "nbformat": 4,
  "nbformat_minor": 5
}